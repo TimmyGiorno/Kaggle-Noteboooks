{
 "cells": [
  {
   "cell_type": "markdown",
   "id": "d3ef6394",
   "metadata": {
    "papermill": {
     "duration": 0.014421,
     "end_time": "2023-08-07T18:46:54.496375",
     "exception": false,
     "start_time": "2023-08-07T18:46:54.481954",
     "status": "completed"
    },
    "tags": []
   },
   "source": [
    "## Import, I/O and preprocessing 部分"
   ]
  },
  {
   "cell_type": "code",
   "execution_count": 1,
   "id": "1c5f98aa",
   "metadata": {
    "_kg_hide-input": true,
    "_kg_hide-output": true,
    "execution": {
     "iopub.execute_input": "2023-08-07T18:46:54.530878Z",
     "iopub.status.busy": "2023-08-07T18:46:54.530392Z",
     "iopub.status.idle": "2023-08-07T18:47:31.784594Z",
     "shell.execute_reply": "2023-08-07T18:47:31.783173Z"
    },
    "papermill": {
     "duration": 37.273002,
     "end_time": "2023-08-07T18:47:31.787472",
     "exception": false,
     "start_time": "2023-08-07T18:46:54.514470",
     "status": "completed"
    },
    "tags": []
   },
   "outputs": [
    {
     "name": "stdout",
     "output_type": "stream",
     "text": [
      "Processing /kaggle/input/tabpfn-019-whl/tabpfn-0.1.9-py3-none-any.whl\r\n",
      "Requirement already satisfied: numpy>=1.21.2 in /opt/conda/lib/python3.10/site-packages (from tabpfn==0.1.9) (1.23.5)\r\n",
      "Requirement already satisfied: pyyaml>=5.4.1 in /opt/conda/lib/python3.10/site-packages (from tabpfn==0.1.9) (6.0)\r\n",
      "Requirement already satisfied: requests>=2.23.0 in /opt/conda/lib/python3.10/site-packages (from tabpfn==0.1.9) (2.31.0)\r\n",
      "Requirement already satisfied: scikit-learn>=0.24.2 in /opt/conda/lib/python3.10/site-packages (from tabpfn==0.1.9) (1.2.2)\r\n",
      "Requirement already satisfied: torch>=1.9.0 in /opt/conda/lib/python3.10/site-packages (from tabpfn==0.1.9) (2.0.0)\r\n",
      "Requirement already satisfied: charset-normalizer<4,>=2 in /opt/conda/lib/python3.10/site-packages (from requests>=2.23.0->tabpfn==0.1.9) (3.1.0)\r\n",
      "Requirement already satisfied: idna<4,>=2.5 in /opt/conda/lib/python3.10/site-packages (from requests>=2.23.0->tabpfn==0.1.9) (3.4)\r\n",
      "Requirement already satisfied: urllib3<3,>=1.21.1 in /opt/conda/lib/python3.10/site-packages (from requests>=2.23.0->tabpfn==0.1.9) (1.26.15)\r\n",
      "Requirement already satisfied: certifi>=2017.4.17 in /opt/conda/lib/python3.10/site-packages (from requests>=2.23.0->tabpfn==0.1.9) (2023.5.7)\r\n",
      "Requirement already satisfied: scipy>=1.3.2 in /opt/conda/lib/python3.10/site-packages (from scikit-learn>=0.24.2->tabpfn==0.1.9) (1.11.1)\r\n",
      "Requirement already satisfied: joblib>=1.1.1 in /opt/conda/lib/python3.10/site-packages (from scikit-learn>=0.24.2->tabpfn==0.1.9) (1.2.0)\r\n",
      "Requirement already satisfied: threadpoolctl>=2.0.0 in /opt/conda/lib/python3.10/site-packages (from scikit-learn>=0.24.2->tabpfn==0.1.9) (3.1.0)\r\n",
      "Requirement already satisfied: filelock in /opt/conda/lib/python3.10/site-packages (from torch>=1.9.0->tabpfn==0.1.9) (3.12.2)\r\n",
      "Requirement already satisfied: typing-extensions in /opt/conda/lib/python3.10/site-packages (from torch>=1.9.0->tabpfn==0.1.9) (4.6.3)\r\n",
      "Requirement already satisfied: sympy in /opt/conda/lib/python3.10/site-packages (from torch>=1.9.0->tabpfn==0.1.9) (1.12)\r\n",
      "Requirement already satisfied: networkx in /opt/conda/lib/python3.10/site-packages (from torch>=1.9.0->tabpfn==0.1.9) (3.1)\r\n",
      "Requirement already satisfied: jinja2 in /opt/conda/lib/python3.10/site-packages (from torch>=1.9.0->tabpfn==0.1.9) (3.1.2)\r\n",
      "Requirement already satisfied: MarkupSafe>=2.0 in /opt/conda/lib/python3.10/site-packages (from jinja2->torch>=1.9.0->tabpfn==0.1.9) (2.1.3)\r\n",
      "Requirement already satisfied: mpmath>=0.19 in /opt/conda/lib/python3.10/site-packages (from sympy->torch>=1.9.0->tabpfn==0.1.9) (1.3.0)\r\n",
      "Installing collected packages: tabpfn\r\n",
      "Successfully installed tabpfn-0.1.9\r\n"
     ]
    }
   ],
   "source": [
    "!pip install /kaggle/input/tabpfn-019-whl/tabpfn-0.1.9-py3-none-any.whl\n",
    "!mkdir /opt/conda/lib/python3.10/site-packages/tabpfn/models_diff\n",
    "!cp /kaggle/input/tabpfn-019-whl/prior_diff_real_checkpoint_n_0_epoch_100.cpkt /opt/conda/lib/python3.10/site-packages/tabpfn/models_diff/"
   ]
  },
  {
   "cell_type": "markdown",
   "id": "2b711809",
   "metadata": {
    "papermill": {
     "duration": 0.01014,
     "end_time": "2023-08-07T18:47:31.808359",
     "exception": false,
     "start_time": "2023-08-07T18:47:31.798219",
     "status": "completed"
    },
    "tags": []
   },
   "source": [
    "首先，我们观察 `train.csv` 和 `greeks.csv` 的元素组成:"
   ]
  },
  {
   "cell_type": "code",
   "execution_count": 2,
   "id": "1d81cc90",
   "metadata": {
    "execution": {
     "iopub.execute_input": "2023-08-07T18:47:31.831936Z",
     "iopub.status.busy": "2023-08-07T18:47:31.831535Z",
     "iopub.status.idle": "2023-08-07T18:47:38.323567Z",
     "shell.execute_reply": "2023-08-07T18:47:38.321320Z"
    },
    "papermill": {
     "duration": 6.50723,
     "end_time": "2023-08-07T18:47:38.326063",
     "exception": false,
     "start_time": "2023-08-07T18:47:31.818833",
     "status": "completed"
    },
    "tags": []
   },
   "outputs": [
    {
     "name": "stderr",
     "output_type": "stream",
     "text": [
      "/opt/conda/lib/python3.10/site-packages/scipy/__init__.py:146: UserWarning: A NumPy version >=1.16.5 and <1.23.0 is required for this version of SciPy (detected version 1.23.5\n",
      "  warnings.warn(f\"A NumPy version >={np_minversion} and <{np_maxversion}\"\n"
     ]
    },
    {
     "name": "stdout",
     "output_type": "stream",
     "text": [
      "\n",
      "训练集概貌如下:\n",
      "             Id        AB          AF          AH         AM        AR  \\\n",
      "0  000ff2bfdfe9  0.209377  3109.03329   85.200147  22.394407  8.138688   \n",
      "1  007255e47698  0.145282   978.76416   85.200147  36.968889  8.138688   \n",
      "2  013f2bd269f5  0.470030  2635.10654   85.200147  32.360553  8.138688   \n",
      "3  043ac50845d5  0.252107  3819.65177  120.201618  77.112203  8.138688   \n",
      "4  044fb8a146ec  0.380297  3733.04844   85.200147  14.103738  8.138688   \n",
      "\n",
      "         AX        AY         AZ          BC  ...        FL        FR  \\\n",
      "0  0.699861  0.025578   9.812214    5.555634  ...  7.298162   1.73855   \n",
      "1  3.632190  0.025578  13.517790    1.229900  ...  0.173229   0.49706   \n",
      "2  6.732840  0.025578  12.824570    1.229900  ...  7.709560   0.97556   \n",
      "3  3.685344  0.025578  11.053708    1.229900  ...  6.122162   0.49706   \n",
      "4  3.942255  0.054810   3.396778  102.151980  ...  8.153058  48.50134   \n",
      "\n",
      "         FS         GB          GE            GF         GH         GI  \\\n",
      "0  0.094822  11.339138   72.611063   2003.810319  22.136229  69.834944   \n",
      "1  0.568932   9.292698   72.611063  27981.562750  29.135430  32.131996   \n",
      "2  1.198821  37.077772   88.609437  13676.957810  28.022851  35.192676   \n",
      "3  0.284466  18.529584   82.416803   2094.262452  39.948656  90.493248   \n",
      "4  0.121914  16.408728  146.109943   8524.370502  45.381316  36.262628   \n",
      "\n",
      "          GL  Class  \n",
      "0   0.120343      1  \n",
      "1  21.978000      0  \n",
      "2   0.196941      0  \n",
      "3   0.155829      0  \n",
      "4   0.096614      1  \n",
      "\n",
      "[5 rows x 58 columns]\n",
      "\n",
      "完整训练集的尺寸是 (617, 58)。\n",
      "\n",
      "训练集的元数据概貌如下:\n",
      "             Id Alpha Beta Gamma Delta    Epsilon\n",
      "0  000ff2bfdfe9     B    C     G     D  3/19/2019\n",
      "1  007255e47698     A    C     M     B    Unknown\n",
      "2  013f2bd269f5     A    C     M     B    Unknown\n",
      "3  043ac50845d5     A    C     M     B    Unknown\n",
      "4  044fb8a146ec     D    B     F     B  3/25/2020\n",
      "\n",
      "完整训练集元数据的尺寸是 (617, 6)。\n"
     ]
    }
   ],
   "source": [
    "import numpy as np \n",
    "import pandas as pd \n",
    "import os\n",
    "import xgboost\n",
    "import matplotlib.pyplot as plt\n",
    "import copy\n",
    "import seaborn as sns\n",
    "import category_encoders as ce\n",
    "from collections import Counter\n",
    "\n",
    "from sklearn.model_selection import train_test_split\n",
    "from sklearn.model_selection import KFold\n",
    "from sklearn.model_selection import GridSearchCV\n",
    "from sklearn.model_selection import cross_val_score\n",
    "from sklearn.impute import SimpleImputer\n",
    "from sklearn.model_selection import StratifiedKFold\n",
    "from sklearn.metrics import accuracy_score\n",
    "\n",
    "from tabpfn import TabPFNClassifier\n",
    "from xgboost import XGBClassifier\n",
    "\n",
    "from xgboost import plot_tree\n",
    "from xgboost import plot_importance\n",
    "\n",
    "from imblearn.over_sampling import RandomOverSampler\n",
    "from imblearn.under_sampling import RandomUnderSampler\n",
    "\n",
    "'''\n",
    "for dirname, _, filenames in os.walk('/kaggle/input'):\n",
    "    for filename in filenames:\n",
    "        print(os.path.join(dirname, filename))\n",
    "'''\n",
    "        \n",
    "train_dataset_df = pd.read_csv(\"/kaggle/input/icr-identify-age-related-conditions/train.csv\")\n",
    "meta_dataset_df = pd.read_csv(\"/kaggle/input/icr-identify-age-related-conditions/greeks.csv\")\n",
    "sample_submission_df = pd.read_csv(\"/kaggle/input/icr-identify-age-related-conditions/sample_submission.csv\")\n",
    "test_dataset_df = pd.read_csv(\"/kaggle/input/icr-identify-age-related-conditions/test.csv\")\n",
    "\n",
    "print(\"\\n训练集概貌如下:\")\n",
    "print(train_dataset_df.head())\n",
    "print(\"\\n完整训练集的尺寸是 {}。\".format(train_dataset_df.shape))\n",
    "\n",
    "print(\"\\n训练集的元数据概貌如下:\")\n",
    "print(meta_dataset_df.head())\n",
    "print(\"\\n完整训练集元数据的尺寸是 {}。\".format(meta_dataset_df.shape))"
   ]
  },
  {
   "cell_type": "code",
   "execution_count": 3,
   "id": "0a2f043d",
   "metadata": {
    "execution": {
     "iopub.execute_input": "2023-08-07T18:47:38.350956Z",
     "iopub.status.busy": "2023-08-07T18:47:38.349597Z",
     "iopub.status.idle": "2023-08-07T18:47:38.699782Z",
     "shell.execute_reply": "2023-08-07T18:47:38.698373Z"
    },
    "papermill": {
     "duration": 0.365621,
     "end_time": "2023-08-07T18:47:38.703680",
     "exception": false,
     "start_time": "2023-08-07T18:47:38.338059",
     "status": "completed"
    },
    "tags": []
   },
   "outputs": [
    {
     "data": {
      "text/html": [
       "<div>\n",
       "<style scoped>\n",
       "    .dataframe tbody tr th:only-of-type {\n",
       "        vertical-align: middle;\n",
       "    }\n",
       "\n",
       "    .dataframe tbody tr th {\n",
       "        vertical-align: top;\n",
       "    }\n",
       "\n",
       "    .dataframe thead th {\n",
       "        text-align: right;\n",
       "    }\n",
       "</style>\n",
       "<table border=\"1\" class=\"dataframe\">\n",
       "  <thead>\n",
       "    <tr style=\"text-align: right;\">\n",
       "      <th></th>\n",
       "      <th>AB</th>\n",
       "      <th>AF</th>\n",
       "      <th>AH</th>\n",
       "      <th>AM</th>\n",
       "      <th>AR</th>\n",
       "      <th>AX</th>\n",
       "      <th>AY</th>\n",
       "      <th>AZ</th>\n",
       "      <th>BC</th>\n",
       "      <th>BD</th>\n",
       "      <th>...</th>\n",
       "      <th>FL</th>\n",
       "      <th>FR</th>\n",
       "      <th>FS</th>\n",
       "      <th>GB</th>\n",
       "      <th>GE</th>\n",
       "      <th>GF</th>\n",
       "      <th>GH</th>\n",
       "      <th>GI</th>\n",
       "      <th>GL</th>\n",
       "      <th>Class</th>\n",
       "    </tr>\n",
       "  </thead>\n",
       "  <tbody>\n",
       "    <tr>\n",
       "      <th>count</th>\n",
       "      <td>617.000000</td>\n",
       "      <td>617.000000</td>\n",
       "      <td>617.000000</td>\n",
       "      <td>617.000000</td>\n",
       "      <td>617.000000</td>\n",
       "      <td>617.000000</td>\n",
       "      <td>617.000000</td>\n",
       "      <td>617.000000</td>\n",
       "      <td>617.000000</td>\n",
       "      <td>617.000000</td>\n",
       "      <td>...</td>\n",
       "      <td>616.000000</td>\n",
       "      <td>617.000000</td>\n",
       "      <td>615.000000</td>\n",
       "      <td>617.000000</td>\n",
       "      <td>617.000000</td>\n",
       "      <td>617.000000</td>\n",
       "      <td>617.000000</td>\n",
       "      <td>617.000000</td>\n",
       "      <td>616.000000</td>\n",
       "      <td>617.000000</td>\n",
       "    </tr>\n",
       "    <tr>\n",
       "      <th>mean</th>\n",
       "      <td>0.477149</td>\n",
       "      <td>3502.013221</td>\n",
       "      <td>118.624513</td>\n",
       "      <td>38.968552</td>\n",
       "      <td>10.128242</td>\n",
       "      <td>5.545576</td>\n",
       "      <td>0.060320</td>\n",
       "      <td>10.566447</td>\n",
       "      <td>8.053012</td>\n",
       "      <td>5350.388655</td>\n",
       "      <td>...</td>\n",
       "      <td>5.433199</td>\n",
       "      <td>3.533905</td>\n",
       "      <td>0.421501</td>\n",
       "      <td>20.724856</td>\n",
       "      <td>131.714987</td>\n",
       "      <td>14679.595398</td>\n",
       "      <td>31.489716</td>\n",
       "      <td>50.584437</td>\n",
       "      <td>8.530961</td>\n",
       "      <td>0.175041</td>\n",
       "    </tr>\n",
       "    <tr>\n",
       "      <th>std</th>\n",
       "      <td>0.468388</td>\n",
       "      <td>2300.322717</td>\n",
       "      <td>127.838950</td>\n",
       "      <td>69.728226</td>\n",
       "      <td>10.518877</td>\n",
       "      <td>2.551696</td>\n",
       "      <td>0.416817</td>\n",
       "      <td>4.350645</td>\n",
       "      <td>65.166943</td>\n",
       "      <td>3021.326641</td>\n",
       "      <td>...</td>\n",
       "      <td>11.496257</td>\n",
       "      <td>50.181948</td>\n",
       "      <td>1.305365</td>\n",
       "      <td>9.991907</td>\n",
       "      <td>144.181524</td>\n",
       "      <td>19352.959387</td>\n",
       "      <td>9.864239</td>\n",
       "      <td>36.266251</td>\n",
       "      <td>10.327010</td>\n",
       "      <td>0.380310</td>\n",
       "    </tr>\n",
       "    <tr>\n",
       "      <th>min</th>\n",
       "      <td>0.081187</td>\n",
       "      <td>192.593280</td>\n",
       "      <td>85.200147</td>\n",
       "      <td>3.177522</td>\n",
       "      <td>8.138688</td>\n",
       "      <td>0.699861</td>\n",
       "      <td>0.025578</td>\n",
       "      <td>3.396778</td>\n",
       "      <td>1.229900</td>\n",
       "      <td>1693.624320</td>\n",
       "      <td>...</td>\n",
       "      <td>0.173229</td>\n",
       "      <td>0.497060</td>\n",
       "      <td>0.067730</td>\n",
       "      <td>4.102182</td>\n",
       "      <td>72.611063</td>\n",
       "      <td>13.038894</td>\n",
       "      <td>9.432735</td>\n",
       "      <td>0.897628</td>\n",
       "      <td>0.001129</td>\n",
       "      <td>0.000000</td>\n",
       "    </tr>\n",
       "    <tr>\n",
       "      <th>25%</th>\n",
       "      <td>0.252107</td>\n",
       "      <td>2197.345480</td>\n",
       "      <td>85.200147</td>\n",
       "      <td>12.270314</td>\n",
       "      <td>8.138688</td>\n",
       "      <td>4.128294</td>\n",
       "      <td>0.025578</td>\n",
       "      <td>8.129580</td>\n",
       "      <td>1.229900</td>\n",
       "      <td>4155.702870</td>\n",
       "      <td>...</td>\n",
       "      <td>0.173229</td>\n",
       "      <td>0.497060</td>\n",
       "      <td>0.067730</td>\n",
       "      <td>14.036718</td>\n",
       "      <td>72.611063</td>\n",
       "      <td>2798.992584</td>\n",
       "      <td>25.034888</td>\n",
       "      <td>23.011684</td>\n",
       "      <td>0.124392</td>\n",
       "      <td>0.000000</td>\n",
       "    </tr>\n",
       "    <tr>\n",
       "      <th>50%</th>\n",
       "      <td>0.354659</td>\n",
       "      <td>3120.318960</td>\n",
       "      <td>85.200147</td>\n",
       "      <td>20.533110</td>\n",
       "      <td>8.138688</td>\n",
       "      <td>5.031912</td>\n",
       "      <td>0.025578</td>\n",
       "      <td>10.461320</td>\n",
       "      <td>1.229900</td>\n",
       "      <td>4997.960730</td>\n",
       "      <td>...</td>\n",
       "      <td>3.028141</td>\n",
       "      <td>1.131000</td>\n",
       "      <td>0.250601</td>\n",
       "      <td>18.771436</td>\n",
       "      <td>72.611063</td>\n",
       "      <td>7838.273610</td>\n",
       "      <td>30.608946</td>\n",
       "      <td>41.007968</td>\n",
       "      <td>0.337827</td>\n",
       "      <td>0.000000</td>\n",
       "    </tr>\n",
       "    <tr>\n",
       "      <th>75%</th>\n",
       "      <td>0.559763</td>\n",
       "      <td>4361.637390</td>\n",
       "      <td>113.739540</td>\n",
       "      <td>39.139886</td>\n",
       "      <td>8.138688</td>\n",
       "      <td>6.431634</td>\n",
       "      <td>0.036845</td>\n",
       "      <td>12.969516</td>\n",
       "      <td>5.081244</td>\n",
       "      <td>6035.885700</td>\n",
       "      <td>...</td>\n",
       "      <td>6.238814</td>\n",
       "      <td>1.512060</td>\n",
       "      <td>0.535067</td>\n",
       "      <td>25.608406</td>\n",
       "      <td>127.591671</td>\n",
       "      <td>19035.709240</td>\n",
       "      <td>36.863947</td>\n",
       "      <td>67.931664</td>\n",
       "      <td>21.978000</td>\n",
       "      <td>0.000000</td>\n",
       "    </tr>\n",
       "    <tr>\n",
       "      <th>max</th>\n",
       "      <td>6.161666</td>\n",
       "      <td>28688.187660</td>\n",
       "      <td>1910.123198</td>\n",
       "      <td>630.518230</td>\n",
       "      <td>178.943634</td>\n",
       "      <td>38.270880</td>\n",
       "      <td>10.315851</td>\n",
       "      <td>38.971568</td>\n",
       "      <td>1463.693448</td>\n",
       "      <td>53060.599240</td>\n",
       "      <td>...</td>\n",
       "      <td>137.932739</td>\n",
       "      <td>1244.227020</td>\n",
       "      <td>31.365763</td>\n",
       "      <td>135.781294</td>\n",
       "      <td>1497.351958</td>\n",
       "      <td>143790.071200</td>\n",
       "      <td>81.210825</td>\n",
       "      <td>191.194764</td>\n",
       "      <td>21.978000</td>\n",
       "      <td>1.000000</td>\n",
       "    </tr>\n",
       "  </tbody>\n",
       "</table>\n",
       "<p>8 rows × 56 columns</p>\n",
       "</div>"
      ],
      "text/plain": [
       "               AB            AF           AH          AM          AR  \\\n",
       "count  617.000000    617.000000   617.000000  617.000000  617.000000   \n",
       "mean     0.477149   3502.013221   118.624513   38.968552   10.128242   \n",
       "std      0.468388   2300.322717   127.838950   69.728226   10.518877   \n",
       "min      0.081187    192.593280    85.200147    3.177522    8.138688   \n",
       "25%      0.252107   2197.345480    85.200147   12.270314    8.138688   \n",
       "50%      0.354659   3120.318960    85.200147   20.533110    8.138688   \n",
       "75%      0.559763   4361.637390   113.739540   39.139886    8.138688   \n",
       "max      6.161666  28688.187660  1910.123198  630.518230  178.943634   \n",
       "\n",
       "               AX          AY          AZ           BC           BD   ...  \\\n",
       "count  617.000000  617.000000  617.000000   617.000000    617.000000  ...   \n",
       "mean     5.545576    0.060320   10.566447     8.053012   5350.388655  ...   \n",
       "std      2.551696    0.416817    4.350645    65.166943   3021.326641  ...   \n",
       "min      0.699861    0.025578    3.396778     1.229900   1693.624320  ...   \n",
       "25%      4.128294    0.025578    8.129580     1.229900   4155.702870  ...   \n",
       "50%      5.031912    0.025578   10.461320     1.229900   4997.960730  ...   \n",
       "75%      6.431634    0.036845   12.969516     5.081244   6035.885700  ...   \n",
       "max     38.270880   10.315851   38.971568  1463.693448  53060.599240  ...   \n",
       "\n",
       "               FL           FR          FS          GB           GE  \\\n",
       "count  616.000000   617.000000  615.000000  617.000000   617.000000   \n",
       "mean     5.433199     3.533905    0.421501   20.724856   131.714987   \n",
       "std     11.496257    50.181948    1.305365    9.991907   144.181524   \n",
       "min      0.173229     0.497060    0.067730    4.102182    72.611063   \n",
       "25%      0.173229     0.497060    0.067730   14.036718    72.611063   \n",
       "50%      3.028141     1.131000    0.250601   18.771436    72.611063   \n",
       "75%      6.238814     1.512060    0.535067   25.608406   127.591671   \n",
       "max    137.932739  1244.227020   31.365763  135.781294  1497.351958   \n",
       "\n",
       "                  GF          GH          GI          GL       Class  \n",
       "count     617.000000  617.000000  617.000000  616.000000  617.000000  \n",
       "mean    14679.595398   31.489716   50.584437    8.530961    0.175041  \n",
       "std     19352.959387    9.864239   36.266251   10.327010    0.380310  \n",
       "min        13.038894    9.432735    0.897628    0.001129    0.000000  \n",
       "25%      2798.992584   25.034888   23.011684    0.124392    0.000000  \n",
       "50%      7838.273610   30.608946   41.007968    0.337827    0.000000  \n",
       "75%     19035.709240   36.863947   67.931664   21.978000    0.000000  \n",
       "max    143790.071200   81.210825  191.194764   21.978000    1.000000  \n",
       "\n",
       "[8 rows x 56 columns]"
      ]
     },
     "execution_count": 3,
     "metadata": {},
     "output_type": "execute_result"
    }
   ],
   "source": [
    "train_dataset_df.describe()"
   ]
  },
  {
   "cell_type": "code",
   "execution_count": 4,
   "id": "a3a10c1c",
   "metadata": {
    "execution": {
     "iopub.execute_input": "2023-08-07T18:47:38.730014Z",
     "iopub.status.busy": "2023-08-07T18:47:38.728237Z",
     "iopub.status.idle": "2023-08-07T18:47:38.757808Z",
     "shell.execute_reply": "2023-08-07T18:47:38.755410Z"
    },
    "papermill": {
     "duration": 0.044113,
     "end_time": "2023-08-07T18:47:38.760220",
     "exception": false,
     "start_time": "2023-08-07T18:47:38.716107",
     "status": "completed"
    },
    "tags": []
   },
   "outputs": [
    {
     "name": "stdout",
     "output_type": "stream",
     "text": [
      "<class 'pandas.core.frame.DataFrame'>\n",
      "RangeIndex: 617 entries, 0 to 616\n",
      "Data columns (total 58 columns):\n",
      " #   Column  Non-Null Count  Dtype  \n",
      "---  ------  --------------  -----  \n",
      " 0   Id      617 non-null    object \n",
      " 1   AB      617 non-null    float64\n",
      " 2   AF      617 non-null    float64\n",
      " 3   AH      617 non-null    float64\n",
      " 4   AM      617 non-null    float64\n",
      " 5   AR      617 non-null    float64\n",
      " 6   AX      617 non-null    float64\n",
      " 7   AY      617 non-null    float64\n",
      " 8   AZ      617 non-null    float64\n",
      " 9   BC      617 non-null    float64\n",
      " 10  BD      617 non-null    float64\n",
      " 11  BN      617 non-null    float64\n",
      " 12  BP      617 non-null    float64\n",
      " 13  BQ      557 non-null    float64\n",
      " 14  BR      617 non-null    float64\n",
      " 15  BZ      617 non-null    float64\n",
      " 16  CB      615 non-null    float64\n",
      " 17  CC      614 non-null    float64\n",
      " 18  CD      617 non-null    float64\n",
      " 19  CF      617 non-null    float64\n",
      " 20  CH      617 non-null    float64\n",
      " 21  CL      617 non-null    float64\n",
      " 22  CR      617 non-null    float64\n",
      " 23  CS      617 non-null    float64\n",
      " 24  CU      617 non-null    float64\n",
      " 25  CW      617 non-null    float64\n",
      " 26  DA      617 non-null    float64\n",
      " 27  DE      617 non-null    float64\n",
      " 28  DF      617 non-null    float64\n",
      " 29  DH      617 non-null    float64\n",
      " 30  DI      617 non-null    float64\n",
      " 31  DL      617 non-null    float64\n",
      " 32  DN      617 non-null    float64\n",
      " 33  DU      616 non-null    float64\n",
      " 34  DV      617 non-null    float64\n",
      " 35  DY      617 non-null    float64\n",
      " 36  EB      617 non-null    float64\n",
      " 37  EE      617 non-null    float64\n",
      " 38  EG      617 non-null    float64\n",
      " 39  EH      617 non-null    float64\n",
      " 40  EJ      617 non-null    object \n",
      " 41  EL      557 non-null    float64\n",
      " 42  EP      617 non-null    float64\n",
      " 43  EU      617 non-null    float64\n",
      " 44  FC      616 non-null    float64\n",
      " 45  FD      617 non-null    float64\n",
      " 46  FE      617 non-null    float64\n",
      " 47  FI      617 non-null    float64\n",
      " 48  FL      616 non-null    float64\n",
      " 49  FR      617 non-null    float64\n",
      " 50  FS      615 non-null    float64\n",
      " 51  GB      617 non-null    float64\n",
      " 52  GE      617 non-null    float64\n",
      " 53  GF      617 non-null    float64\n",
      " 54  GH      617 non-null    float64\n",
      " 55  GI      617 non-null    float64\n",
      " 56  GL      616 non-null    float64\n",
      " 57  Class   617 non-null    int64  \n",
      "dtypes: float64(55), int64(1), object(2)\n",
      "memory usage: 279.7+ KB\n"
     ]
    }
   ],
   "source": [
    "train_dataset_df.info()"
   ]
  },
  {
   "cell_type": "markdown",
   "id": "a3097592",
   "metadata": {
    "papermill": {
     "duration": 0.010832,
     "end_time": "2023-08-07T18:47:38.786077",
     "exception": false,
     "start_time": "2023-08-07T18:47:38.775245",
     "status": "completed"
    },
    "tags": []
   },
   "source": [
    "数据集：58 列，其中 1 列为 ID（没有用处），一列的病与否（0/1），feature 为 56。\n",
    "\n",
    "不难发现两类数据比例严重不均衡。"
   ]
  },
  {
   "cell_type": "code",
   "execution_count": 5,
   "id": "d53ee345",
   "metadata": {
    "execution": {
     "iopub.execute_input": "2023-08-07T18:47:38.809989Z",
     "iopub.status.busy": "2023-08-07T18:47:38.809562Z",
     "iopub.status.idle": "2023-08-07T18:47:39.005875Z",
     "shell.execute_reply": "2023-08-07T18:47:39.004796Z"
    },
    "papermill": {
     "duration": 0.212611,
     "end_time": "2023-08-07T18:47:39.009711",
     "exception": false,
     "start_time": "2023-08-07T18:47:38.797100",
     "status": "completed"
    },
    "tags": []
   },
   "outputs": [
    {
     "data": {
      "text/plain": [
       "<Axes: ylabel='Class'>"
      ]
     },
     "execution_count": 5,
     "metadata": {},
     "output_type": "execute_result"
    },
    {
     "data": {
      "image/png": "[encoded data removed]",
      "text/plain": [
       "<Figure size 640x480 with 1 Axes>"
      ]
     },
     "metadata": {},
     "output_type": "display_data"
    }
   ],
   "source": [
    "plot_df = train_dataset_df.Class.value_counts()\n",
    "plot_df.plot(kind=\"pie\")"
   ]
  },
  {
   "cell_type": "code",
   "execution_count": 6,
   "id": "bf2c34bb",
   "metadata": {
    "execution": {
     "iopub.execute_input": "2023-08-07T18:47:39.067238Z",
     "iopub.status.busy": "2023-08-07T18:47:39.066559Z",
     "iopub.status.idle": "2023-08-07T18:48:08.651492Z",
     "shell.execute_reply": "2023-08-07T18:48:08.650372Z"
    },
    "papermill": {
     "duration": 29.616548,
     "end_time": "2023-08-07T18:48:08.653811",
     "exception": false,
     "start_time": "2023-08-07T18:47:39.037263",
     "status": "completed"
    },
    "tags": []
   },
   "outputs": [
    {
     "data": {
      "image/png": "[encoded data removed]",
      "text/plain": [
       "<Figure size 1500x1500 with 6 Axes>"
      ]
     },
     "metadata": {},
     "output_type": "display_data"
    }
   ],
   "source": [
    "# 查看 float 数据的分布。先把他们搞到一个列表里。\n",
    "NUM_FEATURE_COLUMNS = [i for i in train_dataset_df.columns if i not in [\"Id\", \"EJ\", \"Class\"]]\n",
    "\n",
    "# 查看前六个。\n",
    "figure, axis = plt.subplots(3, 2, figsize=(15, 15))\n",
    "plt.subplots_adjust(hspace=0.25, wspace=0.3)\n",
    "\n",
    "for i, column_name in enumerate(NUM_FEATURE_COLUMNS[:6]):\n",
    "    row = i//2\n",
    "    col = i % 2\n",
    "    bp = sns.barplot(ax=axis[row, col], x=train_dataset_df['Id'], y=train_dataset_df[column_name])\n",
    "    bp.set(xticklabels=[])\n",
    "    #bp.set_xticklabels(bp.get_xticklabels(), rotation=90, size = 7)\n",
    "    axis[row, col].set_title(column_name)\n",
    "plt.show()"
   ]
  },
  {
   "cell_type": "markdown",
   "id": "a4d6e366",
   "metadata": {
    "papermill": {
     "duration": 0.012923,
     "end_time": "2023-08-07T18:48:08.680441",
     "exception": false,
     "start_time": "2023-08-07T18:48:08.667518",
     "status": "completed"
    },
    "tags": []
   },
   "source": [
    "---\n",
    "\n",
    "可以看到这些特征里有许多样本的值是异常大的，假如使用平均法来处理缺省值，直觉上来说会发生较大误差。\n",
    "\n",
    "**TODO**: 参考 [这里](https://zhuanlan.zhihu.com/p/576512900) 想个解决办法。"
   ]
  },
  {
   "cell_type": "markdown",
   "id": "e947073f",
   "metadata": {
    "papermill": {
     "duration": 0.012901,
     "end_time": "2023-08-07T18:48:08.706503",
     "exception": false,
     "start_time": "2023-08-07T18:48:08.693602",
     "status": "completed"
    },
    "tags": []
   },
   "source": [
    "接下来，我们先简单装配一个简单的 NaN 处理。"
   ]
  },
  {
   "cell_type": "code",
   "execution_count": 7,
   "id": "6a31b736",
   "metadata": {
    "execution": {
     "iopub.execute_input": "2023-08-07T18:48:08.734661Z",
     "iopub.status.busy": "2023-08-07T18:48:08.733562Z",
     "iopub.status.idle": "2023-08-07T18:48:08.752967Z",
     "shell.execute_reply": "2023-08-07T18:48:08.751752Z"
    },
    "papermill": {
     "duration": 0.036084,
     "end_time": "2023-08-07T18:48:08.755683",
     "exception": false,
     "start_time": "2023-08-07T18:48:08.719599",
     "status": "completed"
    },
    "tags": []
   },
   "outputs": [
    {
     "name": "stdout",
     "output_type": "stream",
     "text": [
      "column: BQ --> 60\n",
      "column: CB --> 2\n",
      "column: CC --> 3\n",
      "column: DU --> 1\n",
      "column: EL --> 60\n",
      "column: FC --> 1\n",
      "column: FL --> 1\n",
      "column: FS --> 2\n",
      "column: GL --> 1\n"
     ]
    }
   ],
   "source": [
    "column_names = list(train_dataset_df.columns.values)\n",
    "\n",
    "# 看一看每个特征都有多少空出来的。\n",
    "def check_nan(dataset: pd.DataFrame, column_names):\n",
    "    for column in column_names:\n",
    "        if dataset[column].isnull().sum() != 0:\n",
    "            print(\"column: {0} --> {1}\".format(column, dataset[column].isnull().sum()))\n",
    "        \n",
    "check_nan(train_dataset_df, column_names)"
   ]
  },
  {
   "cell_type": "code",
   "execution_count": 8,
   "id": "5ac42871",
   "metadata": {
    "execution": {
     "iopub.execute_input": "2023-08-07T18:48:08.785715Z",
     "iopub.status.busy": "2023-08-07T18:48:08.785374Z",
     "iopub.status.idle": "2023-08-07T18:48:08.812271Z",
     "shell.execute_reply": "2023-08-07T18:48:08.811098Z"
    },
    "papermill": {
     "duration": 0.043424,
     "end_time": "2023-08-07T18:48:08.814595",
     "exception": false,
     "start_time": "2023-08-07T18:48:08.771171",
     "status": "completed"
    },
    "tags": []
   },
   "outputs": [
    {
     "data": {
      "text/plain": [
       "False"
      ]
     },
     "execution_count": 8,
     "metadata": {},
     "output_type": "execute_result"
    }
   ],
   "source": [
    "# 这个函数能这么写，本质上还是因为 EJ 列没有缺省值。\n",
    "def fill_nan(dataset: pd.DataFrame, column_names):\n",
    "    new_dataset = copy.deepcopy(dataset)\n",
    "    \n",
    "    for column in column_names:\n",
    "        if dataset[column].isnull().sum() != 0:\n",
    "            mean = dataset[column].mean()\n",
    "            new_dataset[column].fillna(mean, inplace = True)\n",
    "            \n",
    "    return new_dataset\n",
    "            \n",
    "train_dataset_nonan = fill_nan(train_dataset_df, column_names)\n",
    "train_dataset_nonan.isnull().values.any() # False"
   ]
  },
  {
   "cell_type": "code",
   "execution_count": 9,
   "id": "cf0398a2",
   "metadata": {
    "execution": {
     "iopub.execute_input": "2023-08-07T18:48:08.842892Z",
     "iopub.status.busy": "2023-08-07T18:48:08.841990Z",
     "iopub.status.idle": "2023-08-07T18:48:08.860036Z",
     "shell.execute_reply": "2023-08-07T18:48:08.858747Z"
    },
    "papermill": {
     "duration": 0.033817,
     "end_time": "2023-08-07T18:48:08.862283",
     "exception": false,
     "start_time": "2023-08-07T18:48:08.828466",
     "status": "completed"
    },
    "tags": []
   },
   "outputs": [
    {
     "name": "stdout",
     "output_type": "stream",
     "text": [
      "(216, 58)\n"
     ]
    }
   ],
   "source": [
    "first_category = train_dataset_df.EJ.unique()[0] # first_category = 'B'\n",
    "\n",
    "# 这里先不用带缺省值的，后面看情况。\n",
    "# 把类别列换成 int 列，本来是想用 one-hot 编码的，但是参考了别的解决方案，没有使用，遂不用。\n",
    "train_dataset_df.EJ = train_dataset_df.EJ.eq(first_category).astype('int') # True = 1, False = 0\n",
    "test_dataset_df.EJ = test_dataset_df.EJ.eq(first_category).astype('int')\n",
    "\n",
    "# counter_1 = Counter(dataset_df.EJ) 509 108\n",
    "# print(counter)\n",
    "\n",
    "# 生成新的训练数据集，保证两类数量相同。\n",
    "# 正类（有病）比负类少，因此需要防止数据不平衡问题。\n",
    "def bal_resample(df: pd.DataFrame):\n",
    "    \n",
    "    neg, pos = np.bincount(df['Class']) # 0:509 1:108\n",
    "\n",
    "    one_df = df.loc[df['Class'] == 1] \n",
    "    zero_df = df.loc[df['Class'] == 0]\n",
    "    zero_df = zero_df.sample(n=pos)\n",
    "    undersampled_df = pd.concat([zero_df, one_df])\n",
    "    \n",
    "    return undersampled_df.sample(frac = 1)\n",
    "\n",
    "bal_train_dataset = bal_resample(train_dataset_df)\n",
    "\n",
    "print(bal_train_dataset.shape)"
   ]
  },
  {
   "cell_type": "markdown",
   "id": "d81bc6e3",
   "metadata": {
    "papermill": {
     "duration": 0.012858,
     "end_time": "2023-08-07T18:48:08.888223",
     "exception": false,
     "start_time": "2023-08-07T18:48:08.875365",
     "status": "completed"
    },
    "tags": []
   },
   "source": [
    "我们切分 features 和 label。"
   ]
  },
  {
   "cell_type": "code",
   "execution_count": 10,
   "id": "2b8bdbf4",
   "metadata": {
    "execution": {
     "iopub.execute_input": "2023-08-07T18:48:08.916273Z",
     "iopub.status.busy": "2023-08-07T18:48:08.915287Z",
     "iopub.status.idle": "2023-08-07T18:48:08.923775Z",
     "shell.execute_reply": "2023-08-07T18:48:08.922277Z"
    },
    "papermill": {
     "duration": 0.025108,
     "end_time": "2023-08-07T18:48:08.926098",
     "exception": false,
     "start_time": "2023-08-07T18:48:08.900990",
     "status": "completed"
    },
    "tags": []
   },
   "outputs": [
    {
     "name": "stdout",
     "output_type": "stream",
     "text": [
      "(617, 56)\n",
      "(617,)\n"
     ]
    }
   ],
   "source": [
    "X = train_dataset_df.iloc[:, 1:-1]\n",
    "y = train_dataset_df.iloc[:,-1]\n",
    "\n",
    "predictor_columns = [n for n in train_dataset_df.columns if n != 'Class' and n != 'Id']\n",
    "\n",
    "print(X.shape)\n",
    "print(y.shape)"
   ]
  },
  {
   "cell_type": "markdown",
   "id": "79c030dc",
   "metadata": {
    "papermill": {
     "duration": 0.012803,
     "end_time": "2023-08-07T18:48:08.956288",
     "exception": false,
     "start_time": "2023-08-07T18:48:08.943485",
     "status": "completed"
    },
    "tags": []
   },
   "source": [
    "再自己生成一个 cross-entropy 函数。参考 [这里](https://www.kaggle.com/competitions/icr-identify-age-related-conditions/discussion/422442)。"
   ]
  },
  {
   "cell_type": "code",
   "execution_count": 11,
   "id": "49393f4b",
   "metadata": {
    "execution": {
     "iopub.execute_input": "2023-08-07T18:48:08.984057Z",
     "iopub.status.busy": "2023-08-07T18:48:08.983715Z",
     "iopub.status.idle": "2023-08-07T18:48:08.990948Z",
     "shell.execute_reply": "2023-08-07T18:48:08.989938Z"
    },
    "papermill": {
     "duration": 0.0234,
     "end_time": "2023-08-07T18:48:08.993093",
     "exception": false,
     "start_time": "2023-08-07T18:48:08.969693",
     "status": "completed"
    },
    "tags": []
   },
   "outputs": [],
   "source": [
    "def balanced_log_loss(y_true, y_pred):\n",
    "    \n",
    "    # y_true: correct labels 0, 1\n",
    "    # y_pred: predicted probabilities of class=1\n",
    "    \n",
    "    # calculate the number of observations for each class\n",
    "    N_0 = np.sum(1 - y_true)\n",
    "    N_1 = np.sum(y_true)\n",
    "    \n",
    "    # calculate the weights for each class to balance classes\n",
    "    w_0 = 1 / N_0\n",
    "    w_1 = 1 / N_1\n",
    "    \n",
    "    # calculate the predicted probabilities for each class\n",
    "    p_1 = np.clip(y_pred, 1e-15, 1 - 1e-15)\n",
    "    p_0 = 1 - p_1\n",
    "    \n",
    "    # calculate the summed log loss for each class\n",
    "    log_loss_0 = -np.sum((1 - y_true) * np.log(p_0))\n",
    "    log_loss_1 = -np.sum(y_true * np.log(p_1))\n",
    "    # calculate the weighted summed logarithmic loss\n",
    "    # (factgor of 2 included to give same result as LL with balanced input)\n",
    "    balanced_log_loss = 2*(w_0 * log_loss_0 + w_1 * log_loss_1) / (w_0 + w_1)\n",
    "    # return the average log loss\n",
    "    return balanced_log_loss/(N_0+N_1)"
   ]
  },
  {
   "cell_type": "markdown",
   "id": "e8dc5816",
   "metadata": {
    "papermill": {
     "duration": 0.013035,
     "end_time": "2023-08-07T18:48:09.019204",
     "exception": false,
     "start_time": "2023-08-07T18:48:09.006169",
     "status": "completed"
    },
    "tags": []
   },
   "source": [
    "## 模型训练部分"
   ]
  },
  {
   "cell_type": "markdown",
   "id": "f0d740fd",
   "metadata": {
    "papermill": {
     "duration": 0.012578,
     "end_time": "2023-08-07T18:48:09.044701",
     "exception": false,
     "start_time": "2023-08-07T18:48:09.032123",
     "status": "completed"
    },
    "tags": []
   },
   "source": [
    "首先，设置一个内外层交叉验证模型。\n",
    "- 外层交叉验证用于将数据集分成 10 个折，每次选取一个折作为验证集，剩下的 9 个折作为训练集，进行模型训练和评估；\n",
    "- 内层交叉验证用于在每个外层验证集上进行 5 折交叉验证，即将当前验证集再划分为 5 折，用于选择最佳的模型超参数。"
   ]
  },
  {
   "cell_type": "code",
   "execution_count": 12,
   "id": "f915115d",
   "metadata": {
    "execution": {
     "iopub.execute_input": "2023-08-07T18:48:09.072586Z",
     "iopub.status.busy": "2023-08-07T18:48:09.071902Z",
     "iopub.status.idle": "2023-08-07T18:48:09.077153Z",
     "shell.execute_reply": "2023-08-07T18:48:09.076135Z"
    },
    "papermill": {
     "duration": 0.021649,
     "end_time": "2023-08-07T18:48:09.079229",
     "exception": false,
     "start_time": "2023-08-07T18:48:09.057580",
     "status": "completed"
    },
    "tags": []
   },
   "outputs": [],
   "source": [
    "cross_val_out = KFold(n_splits = 10, shuffle=True, random_state=42)\n",
    "cross_val_in = KFold(n_splits = 5, shuffle=True, random_state=42)"
   ]
  },
  {
   "cell_type": "code",
   "execution_count": 13,
   "id": "34ec4311",
   "metadata": {
    "execution": {
     "iopub.execute_input": "2023-08-07T18:48:09.106961Z",
     "iopub.status.busy": "2023-08-07T18:48:09.106621Z",
     "iopub.status.idle": "2023-08-07T18:48:09.118646Z",
     "shell.execute_reply": "2023-08-07T18:48:09.117713Z"
    },
    "papermill": {
     "duration": 0.028798,
     "end_time": "2023-08-07T18:48:09.120747",
     "exception": false,
     "start_time": "2023-08-07T18:48:09.091949",
     "status": "completed"
    },
    "tags": []
   },
   "outputs": [],
   "source": [
    "class Ensemble():\n",
    "    def __init__(self):\n",
    "        \n",
    "        # 缺省值填充。\n",
    "        self.imputer = SimpleImputer(missing_values=np.nan, strategy='median')\n",
    "        \n",
    "        # 分类器列表。\n",
    "        self.classifiers =[xgboost.XGBClassifier(tree_method='gpu_hist', n_estimators=100,max_depth=3,learning_rate=0.2,subsample=0.9,colsample_bytree=0.85),\n",
    "                          \n",
    "                           xgboost.XGBClassifier(),\n",
    "                           TabPFNClassifier(device='cuda', N_ensemble_configurations=24),\n",
    "                          \n",
    "                           TabPFNClassifier(device='cuda', N_ensemble_configurations=64)]\n",
    "        \n",
    "    \n",
    "    def fit(self,X,y):\n",
    "        y = y.values\n",
    "        unique_classes, y = np.unique(y, return_inverse=True)\n",
    "        self.classes_ = unique_classes\n",
    "        first_category = X.EJ.unique()[0]\n",
    "        X.EJ = X.EJ.eq(first_category).astype('int')\n",
    "        X = self.imputer.fit_transform(X)\n",
    "        # X = normalize(X,axis=0)\n",
    "        for classifier in self.classifiers:\n",
    "            if classifier==self.classifiers[2] or classifier==self.classifiers[3]:\n",
    "                classifier.fit(X,y,overwrite_warning =True)\n",
    "            else :\n",
    "                classifier.fit(X, y)\n",
    "     \n",
    "    def predict_proba(self, x):\n",
    "        x = self.imputer.transform(x)\n",
    "        # x = normalize(x,axis=0)\n",
    "        probabilities = np.stack([classifier.predict_proba(x) for classifier in self.classifiers])\n",
    "        averaged_probabilities = np.mean(probabilities, axis=0)\n",
    "        class_0_est_instances = averaged_probabilities[:, 0].sum()\n",
    "        others_est_instances = averaged_probabilities[:, 1:].sum()\n",
    "        # Weighted probabilities based on class imbalance\n",
    "        new_probabilities = averaged_probabilities * np.array([[1/(class_0_est_instances if i==0 else others_est_instances) for i in range(averaged_probabilities.shape[1])]])\n",
    "        return new_probabilities / np.sum(new_probabilities, axis=1, keepdims=1) "
   ]
  },
  {
   "cell_type": "code",
   "execution_count": 14,
   "id": "fe01364a",
   "metadata": {
    "execution": {
     "iopub.execute_input": "2023-08-07T18:48:09.148016Z",
     "iopub.status.busy": "2023-08-07T18:48:09.147098Z",
     "iopub.status.idle": "2023-08-07T18:48:09.158352Z",
     "shell.execute_reply": "2023-08-07T18:48:09.157401Z"
    },
    "papermill": {
     "duration": 0.027183,
     "end_time": "2023-08-07T18:48:09.160588",
     "exception": false,
     "start_time": "2023-08-07T18:48:09.133405",
     "status": "completed"
    },
    "tags": []
   },
   "outputs": [],
   "source": [
    "def training(model, x,y,y_meta):\n",
    "    outer_results = list()\n",
    "    best_loss = np.inf\n",
    "    split = 0\n",
    "    splits = 5\n",
    "    models=[]\n",
    "    for train_idx,val_idx in tqdm(cross_val_in.split(x), total = splits):\n",
    "        split+=1\n",
    "        x_train, x_val = x.iloc[train_idx],x.iloc[val_idx]\n",
    "        y_train, y_val = y_meta.iloc[train_idx], y.iloc[val_idx]\n",
    "        #model = Ensemble()        \n",
    "        model.fit(x_train, y_train)\n",
    "        models.append(model)\n",
    "        y_pred = model.predict_proba(x_val)\n",
    "        probabilities = np.concatenate((y_pred[:,:1], np.sum(y_pred[:,1:], 1, keepdims=True)), axis=1)\n",
    "        p0 = probabilities[:,:1]\n",
    "        p0[p0 > 0.86] = 1\n",
    "        p0[p0 < 0.14] = 0\n",
    "        y_p = np.empty((y_pred.shape[0],))\n",
    "        for i in range(y_pred.shape[0]):\n",
    "            if p0[i]>=0.5:\n",
    "                y_p[i]= False\n",
    "            else :\n",
    "                y_p[i]=True\n",
    "        y_p = y_p.astype(int)\n",
    "        loss = balanced_log_loss(y_val,y_p)\n",
    "\n",
    "        if loss<best_loss:\n",
    "            best_model = model\n",
    "            best_loss = loss\n",
    "            print('best_model_saved')\n",
    "        outer_results.append(loss)\n",
    "        print('>val_loss=%.5f, split = %.1f' % (loss,split))\n",
    "    print('LOSS: %.5f' % (np.mean(outer_results)))\n",
    "    return best_model, models"
   ]
  },
  {
   "cell_type": "code",
   "execution_count": 15,
   "id": "42c5b40c",
   "metadata": {
    "execution": {
     "iopub.execute_input": "2023-08-07T18:48:09.188927Z",
     "iopub.status.busy": "2023-08-07T18:48:09.187896Z",
     "iopub.status.idle": "2023-08-07T18:48:09.208350Z",
     "shell.execute_reply": "2023-08-07T18:48:09.207354Z"
    },
    "papermill": {
     "duration": 0.037609,
     "end_time": "2023-08-07T18:48:09.210659",
     "exception": false,
     "start_time": "2023-08-07T18:48:09.173050",
     "status": "completed"
    },
    "tags": []
   },
   "outputs": [],
   "source": [
    "from datetime import datetime\n",
    "\n",
    "times = meta_dataset_df.Epsilon.copy()\n",
    "times[meta_dataset_df.Epsilon != 'Unknown'] = meta_dataset_df.Epsilon[meta_dataset_df.Epsilon != 'Unknown'].map(lambda x: datetime.strptime(x,'%m/%d/%Y').toordinal())\n",
    "times[meta_dataset_df.Epsilon == 'Unknown'] = np.nan"
   ]
  },
  {
   "cell_type": "code",
   "execution_count": 16,
   "id": "23061eb4",
   "metadata": {
    "execution": {
     "iopub.execute_input": "2023-08-07T18:48:09.238913Z",
     "iopub.status.busy": "2023-08-07T18:48:09.237945Z",
     "iopub.status.idle": "2023-08-07T18:48:09.250060Z",
     "shell.execute_reply": "2023-08-07T18:48:09.248381Z"
    },
    "papermill": {
     "duration": 0.028961,
     "end_time": "2023-08-07T18:48:09.252598",
     "exception": false,
     "start_time": "2023-08-07T18:48:09.223637",
     "status": "completed"
    },
    "tags": []
   },
   "outputs": [
    {
     "name": "stderr",
     "output_type": "stream",
     "text": [
      "/tmp/ipykernel_23/2617511771.py:4: SettingWithCopyWarning: \n",
      "A value is trying to be set on a copy of a slice from a DataFrame.\n",
      "Try using .loc[row_indexer,col_indexer] = value instead\n",
      "\n",
      "See the caveats in the documentation: https://pandas.pydata.org/pandas-docs/stable/user_guide/indexing.html#returning-a-view-versus-a-copy\n",
      "  test_predictors.EJ = test_predictors.EJ.eq(first_category).astype('int')\n"
     ]
    }
   ],
   "source": [
    "train_pred_and_time = pd.concat((train_dataset_df, times), axis=1)\n",
    "test_predictors = test_dataset_df[predictor_columns]\n",
    "first_category = test_predictors.EJ.unique()[0]\n",
    "test_predictors.EJ = test_predictors.EJ.eq(first_category).astype('int')\n",
    "test_pred_and_time = np.concatenate((test_predictors, np.zeros((len(test_predictors), 1)) + train_pred_and_time.Epsilon.max() + 1), axis=1)"
   ]
  },
  {
   "cell_type": "code",
   "execution_count": 17,
   "id": "aaf6aae4",
   "metadata": {
    "execution": {
     "iopub.execute_input": "2023-08-07T18:48:09.284456Z",
     "iopub.status.busy": "2023-08-07T18:48:09.283307Z",
     "iopub.status.idle": "2023-08-07T18:48:09.327106Z",
     "shell.execute_reply": "2023-08-07T18:48:09.325817Z"
    },
    "papermill": {
     "duration": 0.062365,
     "end_time": "2023-08-07T18:48:09.329540",
     "exception": false,
     "start_time": "2023-08-07T18:48:09.267175",
     "status": "completed"
    },
    "tags": []
   },
   "outputs": [
    {
     "name": "stdout",
     "output_type": "stream",
     "text": [
      "Original dataset shape\n",
      "A    509\n",
      "B     61\n",
      "G     29\n",
      "D     18\n",
      "Name: Alpha, dtype: int64\n",
      "Resample dataset shape\n",
      "B    509\n",
      "A    509\n",
      "D    509\n",
      "G    509\n",
      "Name: Alpha, dtype: int64\n"
     ]
    }
   ],
   "source": [
    "ros = RandomOverSampler(random_state=42)\n",
    "\n",
    "train_ros, y_ros = ros.fit_resample(train_pred_and_time, meta_dataset_df.Alpha)\n",
    "print('Original dataset shape')\n",
    "print(meta_dataset_df.Alpha.value_counts())\n",
    "print('Resample dataset shape')\n",
    "print( y_ros.value_counts())"
   ]
  },
  {
   "cell_type": "code",
   "execution_count": 18,
   "id": "3cd65782",
   "metadata": {
    "execution": {
     "iopub.execute_input": "2023-08-07T18:48:09.357810Z",
     "iopub.status.busy": "2023-08-07T18:48:09.357438Z",
     "iopub.status.idle": "2023-08-07T18:48:09.365853Z",
     "shell.execute_reply": "2023-08-07T18:48:09.364860Z"
    },
    "papermill": {
     "duration": 0.024733,
     "end_time": "2023-08-07T18:48:09.368014",
     "exception": false,
     "start_time": "2023-08-07T18:48:09.343281",
     "status": "completed"
    },
    "tags": []
   },
   "outputs": [],
   "source": [
    "x_ros = train_ros.drop(['Class', 'Id'],axis=1)\n",
    "y_ = train_ros.Class"
   ]
  },
  {
   "cell_type": "code",
   "execution_count": 19,
   "id": "04acbe1c",
   "metadata": {
    "execution": {
     "iopub.execute_input": "2023-08-07T18:48:09.395988Z",
     "iopub.status.busy": "2023-08-07T18:48:09.395017Z",
     "iopub.status.idle": "2023-08-07T18:48:13.242042Z",
     "shell.execute_reply": "2023-08-07T18:48:13.240982Z"
    },
    "papermill": {
     "duration": 3.863442,
     "end_time": "2023-08-07T18:48:13.244585",
     "exception": false,
     "start_time": "2023-08-07T18:48:09.381143",
     "status": "completed"
    },
    "tags": []
   },
   "outputs": [
    {
     "name": "stdout",
     "output_type": "stream",
     "text": [
      "Loading model that can be used for inference only\n",
      "Using a Transformer with 25.82 M parameters\n",
      "Loading model that can be used for inference only\n",
      "Using a Transformer with 25.82 M parameters\n"
     ]
    }
   ],
   "source": [
    "yt = Ensemble()"
   ]
  },
  {
   "cell_type": "code",
   "execution_count": 20,
   "id": "4281fabb",
   "metadata": {
    "execution": {
     "iopub.execute_input": "2023-08-07T18:48:13.272952Z",
     "iopub.status.busy": "2023-08-07T18:48:13.272600Z",
     "iopub.status.idle": "2023-08-07T18:49:00.166828Z",
     "shell.execute_reply": "2023-08-07T18:49:00.165753Z"
    },
    "papermill": {
     "duration": 46.912566,
     "end_time": "2023-08-07T18:49:00.170716",
     "exception": false,
     "start_time": "2023-08-07T18:48:13.258150",
     "status": "completed"
    },
    "tags": []
   },
   "outputs": [
    {
     "data": {
      "application/vnd.jupyter.widget-view+json": {
       "model_id": "d3a887e1eb8a4e88a34ca5a9ad7f1c4e",
       "version_major": 2,
       "version_minor": 0
      },
      "text/plain": [
       "  0%|          | 0/5 [00:00<?, ?it/s]"
      ]
     },
     "metadata": {},
     "output_type": "display_data"
    },
    {
     "name": "stderr",
     "output_type": "stream",
     "text": [
      "/tmp/ipykernel_23/379648586.py:21: SettingWithCopyWarning: \n",
      "A value is trying to be set on a copy of a slice from a DataFrame.\n",
      "Try using .loc[row_indexer,col_indexer] = value instead\n",
      "\n",
      "See the caveats in the documentation: https://pandas.pydata.org/pandas-docs/stable/user_guide/indexing.html#returning-a-view-versus-a-copy\n",
      "  X.EJ = X.EJ.eq(first_category).astype('int')\n"
     ]
    },
    {
     "name": "stdout",
     "output_type": "stream",
     "text": [
      "best_model_saved\n",
      ">val_loss=0.12283, split = 1.0\n"
     ]
    },
    {
     "name": "stderr",
     "output_type": "stream",
     "text": [
      "/tmp/ipykernel_23/379648586.py:21: SettingWithCopyWarning: \n",
      "A value is trying to be set on a copy of a slice from a DataFrame.\n",
      "Try using .loc[row_indexer,col_indexer] = value instead\n",
      "\n",
      "See the caveats in the documentation: https://pandas.pydata.org/pandas-docs/stable/user_guide/indexing.html#returning-a-view-versus-a-copy\n",
      "  X.EJ = X.EJ.eq(first_category).astype('int')\n"
     ]
    },
    {
     "name": "stdout",
     "output_type": "stream",
     "text": [
      "best_model_saved\n",
      ">val_loss=0.00000, split = 2.0\n"
     ]
    },
    {
     "name": "stderr",
     "output_type": "stream",
     "text": [
      "/tmp/ipykernel_23/379648586.py:21: SettingWithCopyWarning: \n",
      "A value is trying to be set on a copy of a slice from a DataFrame.\n",
      "Try using .loc[row_indexer,col_indexer] = value instead\n",
      "\n",
      "See the caveats in the documentation: https://pandas.pydata.org/pandas-docs/stable/user_guide/indexing.html#returning-a-view-versus-a-copy\n",
      "  X.EJ = X.EJ.eq(first_category).astype('int')\n"
     ]
    },
    {
     "name": "stdout",
     "output_type": "stream",
     "text": [
      ">val_loss=0.00000, split = 3.0\n"
     ]
    },
    {
     "name": "stderr",
     "output_type": "stream",
     "text": [
      "/tmp/ipykernel_23/379648586.py:21: SettingWithCopyWarning: \n",
      "A value is trying to be set on a copy of a slice from a DataFrame.\n",
      "Try using .loc[row_indexer,col_indexer] = value instead\n",
      "\n",
      "See the caveats in the documentation: https://pandas.pydata.org/pandas-docs/stable/user_guide/indexing.html#returning-a-view-versus-a-copy\n",
      "  X.EJ = X.EJ.eq(first_category).astype('int')\n"
     ]
    },
    {
     "name": "stdout",
     "output_type": "stream",
     "text": [
      "best_model_saved\n",
      ">val_loss=0.00000, split = 4.0\n"
     ]
    },
    {
     "name": "stderr",
     "output_type": "stream",
     "text": [
      "/tmp/ipykernel_23/379648586.py:21: SettingWithCopyWarning: \n",
      "A value is trying to be set on a copy of a slice from a DataFrame.\n",
      "Try using .loc[row_indexer,col_indexer] = value instead\n",
      "\n",
      "See the caveats in the documentation: https://pandas.pydata.org/pandas-docs/stable/user_guide/indexing.html#returning-a-view-versus-a-copy\n",
      "  X.EJ = X.EJ.eq(first_category).astype('int')\n"
     ]
    },
    {
     "name": "stdout",
     "output_type": "stream",
     "text": [
      ">val_loss=0.13386, split = 5.0\n",
      "LOSS: 0.05134\n"
     ]
    }
   ],
   "source": [
    "from tqdm.notebook import tqdm\n",
    "\n",
    "m,models = training(yt,x_ros,y_,y_ros)"
   ]
  },
  {
   "cell_type": "code",
   "execution_count": 21,
   "id": "611d8b4d",
   "metadata": {
    "execution": {
     "iopub.execute_input": "2023-08-07T18:49:00.203927Z",
     "iopub.status.busy": "2023-08-07T18:49:00.203003Z",
     "iopub.status.idle": "2023-08-07T18:49:00.212530Z",
     "shell.execute_reply": "2023-08-07T18:49:00.211483Z"
    },
    "papermill": {
     "duration": 0.02954,
     "end_time": "2023-08-07T18:49:00.214767",
     "exception": false,
     "start_time": "2023-08-07T18:49:00.185227",
     "status": "completed"
    },
    "tags": []
   },
   "outputs": [
    {
     "data": {
      "text/plain": [
       "1    0.75\n",
       "0    0.25\n",
       "Name: Class, dtype: float64"
      ]
     },
     "execution_count": 21,
     "metadata": {},
     "output_type": "execute_result"
    }
   ],
   "source": [
    "y_.value_counts()/y_.shape[0]"
   ]
  },
  {
   "cell_type": "code",
   "execution_count": 22,
   "id": "54dc6cc7",
   "metadata": {
    "execution": {
     "iopub.execute_input": "2023-08-07T18:49:00.246459Z",
     "iopub.status.busy": "2023-08-07T18:49:00.245492Z",
     "iopub.status.idle": "2023-08-07T18:49:06.876361Z",
     "shell.execute_reply": "2023-08-07T18:49:06.874921Z"
    },
    "papermill": {
     "duration": 6.648996,
     "end_time": "2023-08-07T18:49:06.878981",
     "exception": false,
     "start_time": "2023-08-07T18:49:00.229985",
     "status": "completed"
    },
    "tags": []
   },
   "outputs": [
    {
     "name": "stderr",
     "output_type": "stream",
     "text": [
      "/opt/conda/lib/python3.10/site-packages/sklearn/base.py:439: UserWarning: X does not have valid feature names, but SimpleImputer was fitted with feature names\n",
      "  warnings.warn(\n"
     ]
    }
   ],
   "source": [
    "y_pred = m.predict_proba(test_pred_and_time)"
   ]
  },
  {
   "cell_type": "code",
   "execution_count": 23,
   "id": "352a3b73",
   "metadata": {
    "execution": {
     "iopub.execute_input": "2023-08-07T18:49:06.909907Z",
     "iopub.status.busy": "2023-08-07T18:49:06.909530Z",
     "iopub.status.idle": "2023-08-07T18:49:06.915612Z",
     "shell.execute_reply": "2023-08-07T18:49:06.914555Z"
    },
    "papermill": {
     "duration": 0.023766,
     "end_time": "2023-08-07T18:49:06.917748",
     "exception": false,
     "start_time": "2023-08-07T18:49:06.893982",
     "status": "completed"
    },
    "tags": []
   },
   "outputs": [],
   "source": [
    "#y_pred=np.mean(y_pred_list, axis=0)\n",
    "probabilities = np.concatenate((y_pred[:,:1], np.sum(y_pred[:,1:], 1, keepdims=True)), axis=1)\n",
    "p0 = probabilities[:,:1]\n",
    "p0[p0 > 0.60] = 1\n",
    "p0[p0 < 0.25] = 0"
   ]
  },
  {
   "cell_type": "code",
   "execution_count": 24,
   "id": "5745db26",
   "metadata": {
    "execution": {
     "iopub.execute_input": "2023-08-07T18:49:06.949961Z",
     "iopub.status.busy": "2023-08-07T18:49:06.948220Z",
     "iopub.status.idle": "2023-08-07T18:49:06.959624Z",
     "shell.execute_reply": "2023-08-07T18:49:06.958561Z"
    },
    "papermill": {
     "duration": 0.029644,
     "end_time": "2023-08-07T18:49:06.962229",
     "exception": false,
     "start_time": "2023-08-07T18:49:06.932585",
     "status": "completed"
    },
    "tags": []
   },
   "outputs": [],
   "source": [
    "submission = pd.DataFrame(test_dataset_df[\"Id\"], columns=[\"Id\"])\n",
    "submission[\"class_0\"] = p0\n",
    "submission[\"class_1\"] = 1 - p0\n",
    "submission.to_csv('submission.csv', index=False)"
   ]
  },
  {
   "cell_type": "code",
   "execution_count": 25,
   "id": "9d0afdb2",
   "metadata": {
    "execution": {
     "iopub.execute_input": "2023-08-07T18:49:06.994427Z",
     "iopub.status.busy": "2023-08-07T18:49:06.993516Z",
     "iopub.status.idle": "2023-08-07T18:49:07.008222Z",
     "shell.execute_reply": "2023-08-07T18:49:07.007112Z"
    },
    "papermill": {
     "duration": 0.032872,
     "end_time": "2023-08-07T18:49:07.010760",
     "exception": false,
     "start_time": "2023-08-07T18:49:06.977888",
     "status": "completed"
    },
    "tags": []
   },
   "outputs": [
    {
     "data": {
      "text/html": [
       "<div>\n",
       "<style scoped>\n",
       "    .dataframe tbody tr th:only-of-type {\n",
       "        vertical-align: middle;\n",
       "    }\n",
       "\n",
       "    .dataframe tbody tr th {\n",
       "        vertical-align: top;\n",
       "    }\n",
       "\n",
       "    .dataframe thead th {\n",
       "        text-align: right;\n",
       "    }\n",
       "</style>\n",
       "<table border=\"1\" class=\"dataframe\">\n",
       "  <thead>\n",
       "    <tr style=\"text-align: right;\">\n",
       "      <th></th>\n",
       "      <th>Id</th>\n",
       "      <th>class_0</th>\n",
       "      <th>class_1</th>\n",
       "    </tr>\n",
       "  </thead>\n",
       "  <tbody>\n",
       "    <tr>\n",
       "      <th>0</th>\n",
       "      <td>00eed32682bb</td>\n",
       "      <td>0.5</td>\n",
       "      <td>0.5</td>\n",
       "    </tr>\n",
       "    <tr>\n",
       "      <th>1</th>\n",
       "      <td>010ebe33f668</td>\n",
       "      <td>0.5</td>\n",
       "      <td>0.5</td>\n",
       "    </tr>\n",
       "    <tr>\n",
       "      <th>2</th>\n",
       "      <td>02fa521e1838</td>\n",
       "      <td>0.5</td>\n",
       "      <td>0.5</td>\n",
       "    </tr>\n",
       "    <tr>\n",
       "      <th>3</th>\n",
       "      <td>040e15f562a2</td>\n",
       "      <td>0.5</td>\n",
       "      <td>0.5</td>\n",
       "    </tr>\n",
       "    <tr>\n",
       "      <th>4</th>\n",
       "      <td>046e85c7cc7f</td>\n",
       "      <td>0.5</td>\n",
       "      <td>0.5</td>\n",
       "    </tr>\n",
       "  </tbody>\n",
       "</table>\n",
       "</div>"
      ],
      "text/plain": [
       "             Id  class_0  class_1\n",
       "0  00eed32682bb      0.5      0.5\n",
       "1  010ebe33f668      0.5      0.5\n",
       "2  02fa521e1838      0.5      0.5\n",
       "3  040e15f562a2      0.5      0.5\n",
       "4  046e85c7cc7f      0.5      0.5"
      ]
     },
     "execution_count": 25,
     "metadata": {},
     "output_type": "execute_result"
    }
   ],
   "source": [
    "submission_df = pd.read_csv('submission.csv')\n",
    "submission_df"
   ]
  },
  {
   "cell_type": "markdown",
   "id": "6507961b",
   "metadata": {
    "papermill": {
     "duration": 0.014351,
     "end_time": "2023-08-07T18:49:07.040399",
     "exception": false,
     "start_time": "2023-08-07T18:49:07.026048",
     "status": "completed"
    },
    "tags": []
   },
   "source": [
    "观察特征的重要性。\n",
    "**TODO**：特征工程，用重要的特征搞一些新特征出来。"
   ]
  },
  {
   "cell_type": "markdown",
   "id": "fa112566",
   "metadata": {
    "papermill": {
     "duration": 0.014159,
     "end_time": "2023-08-07T18:49:07.068893",
     "exception": false,
     "start_time": "2023-08-07T18:49:07.054734",
     "status": "completed"
    },
    "tags": []
   },
   "source": [
    "## 提交生成部分"
   ]
  }
 ],
 "metadata": {
  "kernelspec": {
   "display_name": "Python 3",
   "language": "python",
   "name": "python3"
  },
  "language_info": {
   "codemirror_mode": {
    "name": "ipython",
    "version": 3
   },
   "file_extension": ".py",
   "mimetype": "text/x-python",
   "name": "python",
   "nbconvert_exporter": "python",
   "pygments_lexer": "ipython3",
   "version": "3.10.12"
  },
  "papermill": {
   "default_parameters": {},
   "duration": 147.008387,
   "end_time": "2023-08-07T18:49:10.215353",
   "environment_variables": {},
   "exception": null,
   "input_path": "__notebook__.ipynb",
   "output_path": "__notebook__.ipynb",
   "parameters": {},
   "start_time": "2023-08-07T18:46:43.206966",
   "version": "2.4.0"
  },
  "widgets": {
   "application/vnd.jupyter.widget-state+json": {
    "state": {
     "042cbe89993f409e881a5cdd733c3a5c": {
      "model_module": "@jupyter-widgets/base",
      "model_module_version": "1.2.0",
      "model_name": "LayoutModel",
      "state": {
       "_model_module": "@jupyter-widgets/base",
       "_model_module_version": "1.2.0",
       "_model_name": "LayoutModel",
       "_view_count": null,
       "_view_module": "@jupyter-widgets/base",
       "_view_module_version": "1.2.0",
       "_view_name": "LayoutView",
       "align_content": null,
       "align_items": null,
       "align_self": null,
       "border": null,
       "bottom": null,
       "display": null,
       "flex": null,
       "flex_flow": null,
       "grid_area": null,
       "grid_auto_columns": null,
       "grid_auto_flow": null,
       "grid_auto_rows": null,
       "grid_column": null,
       "grid_gap": null,
       "grid_row": null,
       "grid_template_areas": null,
       "grid_template_columns": null,
       "grid_template_rows": null,
       "height": null,
       "justify_content": null,
       "justify_items": null,
       "left": null,
       "margin": null,
       "max_height": null,
       "max_width": null,
       "min_height": null,
       "min_width": null,
       "object_fit": null,
       "object_position": null,
       "order": null,
       "overflow": null,
       "overflow_x": null,
       "overflow_y": null,
       "padding": null,
       "right": null,
       "top": null,
       "visibility": null,
       "width": null
      }
     },
     "1d96d4be1d37431db7eb48ec5107a86a": {
      "model_module": "@jupyter-widgets/controls",
      "model_module_version": "1.5.0",
      "model_name": "DescriptionStyleModel",
      "state": {
       "_model_module": "@jupyter-widgets/controls",
       "_model_module_version": "1.5.0",
       "_model_name": "DescriptionStyleModel",
       "_view_count": null,
       "_view_module": "@jupyter-widgets/base",
       "_view_module_version": "1.2.0",
       "_view_name": "StyleView",
       "description_width": ""
      }
     },
     "2a5833c7eba7450eba6a07ba7c3ad7ff": {
      "model_module": "@jupyter-widgets/controls",
      "model_module_version": "1.5.0",
      "model_name": "HTMLModel",
      "state": {
       "_dom_classes": [],
       "_model_module": "@jupyter-widgets/controls",
       "_model_module_version": "1.5.0",
       "_model_name": "HTMLModel",
       "_view_count": null,
       "_view_module": "@jupyter-widgets/controls",
       "_view_module_version": "1.5.0",
       "_view_name": "HTMLView",
       "description": "",
       "description_tooltip": null,
       "layout": "IPY_MODEL_8c78bfa4100b4c2f9ee1467b2b23ba68",
       "placeholder": "​",
       "style": "IPY_MODEL_feafd4b4fb9243ccb6bb3eebc27d2866",
       "value": " 5/5 [00:46&lt;00:00,  9.02s/it]"
      }
     },
     "3e049a5f68ac44e68ccf606517977850": {
      "model_module": "@jupyter-widgets/controls",
      "model_module_version": "1.5.0",
      "model_name": "FloatProgressModel",
      "state": {
       "_dom_classes": [],
       "_model_module": "@jupyter-widgets/controls",
       "_model_module_version": "1.5.0",
       "_model_name": "FloatProgressModel",
       "_view_count": null,
       "_view_module": "@jupyter-widgets/controls",
       "_view_module_version": "1.5.0",
       "_view_name": "ProgressView",
       "bar_style": "success",
       "description": "",
       "description_tooltip": null,
       "layout": "IPY_MODEL_c3c05ed9d3dd4fffa39501b2bd36151f",
       "max": 5.0,
       "min": 0.0,
       "orientation": "horizontal",
       "style": "IPY_MODEL_b0daf1a5f89045b2b273c11e9078865d",
       "value": 5.0
      }
     },
     "5a82c484eefa46cfa8d065df98db5855": {
      "model_module": "@jupyter-widgets/controls",
      "model_module_version": "1.5.0",
      "model_name": "HTMLModel",
      "state": {
       "_dom_classes": [],
       "_model_module": "@jupyter-widgets/controls",
       "_model_module_version": "1.5.0",
       "_model_name": "HTMLModel",
       "_view_count": null,
       "_view_module": "@jupyter-widgets/controls",
       "_view_module_version": "1.5.0",
       "_view_name": "HTMLView",
       "description": "",
       "description_tooltip": null,
       "layout": "IPY_MODEL_042cbe89993f409e881a5cdd733c3a5c",
       "placeholder": "​",
       "style": "IPY_MODEL_1d96d4be1d37431db7eb48ec5107a86a",
       "value": "100%"
      }
     },
     "8c78bfa4100b4c2f9ee1467b2b23ba68": {
      "model_module": "@jupyter-widgets/base",
      "model_module_version": "1.2.0",
      "model_name": "LayoutModel",
      "state": {
       "_model_module": "@jupyter-widgets/base",
       "_model_module_version": "1.2.0",
       "_model_name": "LayoutModel",
       "_view_count": null,
       "_view_module": "@jupyter-widgets/base",
       "_view_module_version": "1.2.0",
       "_view_name": "LayoutView",
       "align_content": null,
       "align_items": null,
       "align_self": null,
       "border": null,
       "bottom": null,
       "display": null,
       "flex": null,
       "flex_flow": null,
       "grid_area": null,
       "grid_auto_columns": null,
       "grid_auto_flow": null,
       "grid_auto_rows": null,
       "grid_column": null,
       "grid_gap": null,
       "grid_row": null,
       "grid_template_areas": null,
       "grid_template_columns": null,
       "grid_template_rows": null,
       "height": null,
       "justify_content": null,
       "justify_items": null,
       "left": null,
       "margin": null,
       "max_height": null,
       "max_width": null,
       "min_height": null,
       "min_width": null,
       "object_fit": null,
       "object_position": null,
       "order": null,
       "overflow": null,
       "overflow_x": null,
       "overflow_y": null,
       "padding": null,
       "right": null,
       "top": null,
       "visibility": null,
       "width": null
      }
     },
     "b0daf1a5f89045b2b273c11e9078865d": {
      "model_module": "@jupyter-widgets/controls",
      "model_module_version": "1.5.0",
      "model_name": "ProgressStyleModel",
      "state": {
       "_model_module": "@jupyter-widgets/controls",
       "_model_module_version": "1.5.0",
       "_model_name": "ProgressStyleModel",
       "_view_count": null,
       "_view_module": "@jupyter-widgets/base",
       "_view_module_version": "1.2.0",
       "_view_name": "StyleView",
       "bar_color": null,
       "description_width": ""
      }
     },
     "c3c05ed9d3dd4fffa39501b2bd36151f": {
      "model_module": "@jupyter-widgets/base",
      "model_module_version": "1.2.0",
      "model_name": "LayoutModel",
      "state": {
       "_model_module": "@jupyter-widgets/base",
       "_model_module_version": "1.2.0",
       "_model_name": "LayoutModel",
       "_view_count": null,
       "_view_module": "@jupyter-widgets/base",
       "_view_module_version": "1.2.0",
       "_view_name": "LayoutView",
       "align_content": null,
       "align_items": null,
       "align_self": null,
       "border": null,
       "bottom": null,
       "display": null,
       "flex": null,
       "flex_flow": null,
       "grid_area": null,
       "grid_auto_columns": null,
       "grid_auto_flow": null,
       "grid_auto_rows": null,
       "grid_column": null,
       "grid_gap": null,
       "grid_row": null,
       "grid_template_areas": null,
       "grid_template_columns": null,
       "grid_template_rows": null,
       "height": null,
       "justify_content": null,
       "justify_items": null,
       "left": null,
       "margin": null,
       "max_height": null,
       "max_width": null,
       "min_height": null,
       "min_width": null,
       "object_fit": null,
       "object_position": null,
       "order": null,
       "overflow": null,
       "overflow_x": null,
       "overflow_y": null,
       "padding": null,
       "right": null,
       "top": null,
       "visibility": null,
       "width": null
      }
     },
     "d140593069c24167a3a39f02b820ddc3": {
      "model_module": "@jupyter-widgets/base",
      "model_module_version": "1.2.0",
      "model_name": "LayoutModel",
      "state": {
       "_model_module": "@jupyter-widgets/base",
       "_model_module_version": "1.2.0",
       "_model_name": "LayoutModel",
       "_view_count": null,
       "_view_module": "@jupyter-widgets/base",
       "_view_module_version": "1.2.0",
       "_view_name": "LayoutView",
       "align_content": null,
       "align_items": null,
       "align_self": null,
       "border": null,
       "bottom": null,
       "display": null,
       "flex": null,
       "flex_flow": null,
       "grid_area": null,
       "grid_auto_columns": null,
       "grid_auto_flow": null,
       "grid_auto_rows": null,
       "grid_column": null,
       "grid_gap": null,
       "grid_row": null,
       "grid_template_areas": null,
       "grid_template_columns": null,
       "grid_template_rows": null,
       "height": null,
       "justify_content": null,
       "justify_items": null,
       "left": null,
       "margin": null,
       "max_height": null,
       "max_width": null,
       "min_height": null,
       "min_width": null,
       "object_fit": null,
       "object_position": null,
       "order": null,
       "overflow": null,
       "overflow_x": null,
       "overflow_y": null,
       "padding": null,
       "right": null,
       "top": null,
       "visibility": null,
       "width": null
      }
     },
     "d3a887e1eb8a4e88a34ca5a9ad7f1c4e": {
      "model_module": "@jupyter-widgets/controls",
      "model_module_version": "1.5.0",
      "model_name": "HBoxModel",
      "state": {
       "_dom_classes": [],
       "_model_module": "@jupyter-widgets/controls",
       "_model_module_version": "1.5.0",
       "_model_name": "HBoxModel",
       "_view_count": null,
       "_view_module": "@jupyter-widgets/controls",
       "_view_module_version": "1.5.0",
       "_view_name": "HBoxView",
       "box_style": "",
       "children": [
        "IPY_MODEL_5a82c484eefa46cfa8d065df98db5855",
        "IPY_MODEL_3e049a5f68ac44e68ccf606517977850",
        "IPY_MODEL_2a5833c7eba7450eba6a07ba7c3ad7ff"
       ],
       "layout": "IPY_MODEL_d140593069c24167a3a39f02b820ddc3"
      }
     },
     "feafd4b4fb9243ccb6bb3eebc27d2866": {
      "model_module": "@jupyter-widgets/controls",
      "model_module_version": "1.5.0",
      "model_name": "DescriptionStyleModel",
      "state": {
       "_model_module": "@jupyter-widgets/controls",
       "_model_module_version": "1.5.0",
       "_model_name": "DescriptionStyleModel",
       "_view_count": null,
       "_view_module": "@jupyter-widgets/base",
       "_view_module_version": "1.2.0",
       "_view_name": "StyleView",
       "description_width": ""
      }
     }
    },
    "version_major": 2,
    "version_minor": 0
   }
  }
 },
 "nbformat": 4,
 "nbformat_minor": 5
}
