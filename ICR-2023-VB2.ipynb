{
 "cells": [
  {
   "cell_type": "markdown",
   "id": "51f345a1",
   "metadata": {
    "papermill": {
     "duration": 0.007075,
     "end_time": "2023-08-09T04:49:36.872890",
     "exception": false,
     "start_time": "2023-08-09T04:49:36.865815",
     "status": "completed"
    },
    "tags": []
   },
   "source": [
    "## Import, I/O and preprocessing 部分"
   ]
  },
  {
   "cell_type": "code",
   "execution_count": 1,
   "id": "26eb52c1",
   "metadata": {
    "_kg_hide-input": true,
    "_kg_hide-output": true,
    "execution": {
     "iopub.execute_input": "2023-08-09T04:49:36.887703Z",
     "iopub.status.busy": "2023-08-09T04:49:36.886905Z",
     "iopub.status.idle": "2023-08-09T04:50:12.829933Z",
     "shell.execute_reply": "2023-08-09T04:50:12.828556Z"
    },
    "papermill": {
     "duration": 35.953453,
     "end_time": "2023-08-09T04:50:12.832623",
     "exception": false,
     "start_time": "2023-08-09T04:49:36.879170",
     "status": "completed"
    },
    "tags": []
   },
   "outputs": [
    {
     "name": "stdout",
     "output_type": "stream",
     "text": [
      "Processing /kaggle/input/tabpfn-019-whl/tabpfn-0.1.9-py3-none-any.whl\r\n",
      "Requirement already satisfied: numpy>=1.21.2 in /opt/conda/lib/python3.10/site-packages (from tabpfn==0.1.9) (1.23.5)\r\n",
      "Requirement already satisfied: pyyaml>=5.4.1 in /opt/conda/lib/python3.10/site-packages (from tabpfn==0.1.9) (6.0)\r\n",
      "Requirement already satisfied: requests>=2.23.0 in /opt/conda/lib/python3.10/site-packages (from tabpfn==0.1.9) (2.31.0)\r\n",
      "Requirement already satisfied: scikit-learn>=0.24.2 in /opt/conda/lib/python3.10/site-packages (from tabpfn==0.1.9) (1.2.2)\r\n",
      "Requirement already satisfied: torch>=1.9.0 in /opt/conda/lib/python3.10/site-packages (from tabpfn==0.1.9) (2.0.0)\r\n",
      "Requirement already satisfied: charset-normalizer<4,>=2 in /opt/conda/lib/python3.10/site-packages (from requests>=2.23.0->tabpfn==0.1.9) (3.1.0)\r\n",
      "Requirement already satisfied: idna<4,>=2.5 in /opt/conda/lib/python3.10/site-packages (from requests>=2.23.0->tabpfn==0.1.9) (3.4)\r\n",
      "Requirement already satisfied: urllib3<3,>=1.21.1 in /opt/conda/lib/python3.10/site-packages (from requests>=2.23.0->tabpfn==0.1.9) (1.26.15)\r\n",
      "Requirement already satisfied: certifi>=2017.4.17 in /opt/conda/lib/python3.10/site-packages (from requests>=2.23.0->tabpfn==0.1.9) (2023.5.7)\r\n",
      "Requirement already satisfied: scipy>=1.3.2 in /opt/conda/lib/python3.10/site-packages (from scikit-learn>=0.24.2->tabpfn==0.1.9) (1.11.1)\r\n",
      "Requirement already satisfied: joblib>=1.1.1 in /opt/conda/lib/python3.10/site-packages (from scikit-learn>=0.24.2->tabpfn==0.1.9) (1.2.0)\r\n",
      "Requirement already satisfied: threadpoolctl>=2.0.0 in /opt/conda/lib/python3.10/site-packages (from scikit-learn>=0.24.2->tabpfn==0.1.9) (3.1.0)\r\n",
      "Requirement already satisfied: filelock in /opt/conda/lib/python3.10/site-packages (from torch>=1.9.0->tabpfn==0.1.9) (3.12.2)\r\n",
      "Requirement already satisfied: typing-extensions in /opt/conda/lib/python3.10/site-packages (from torch>=1.9.0->tabpfn==0.1.9) (4.6.3)\r\n",
      "Requirement already satisfied: sympy in /opt/conda/lib/python3.10/site-packages (from torch>=1.9.0->tabpfn==0.1.9) (1.12)\r\n",
      "Requirement already satisfied: networkx in /opt/conda/lib/python3.10/site-packages (from torch>=1.9.0->tabpfn==0.1.9) (3.1)\r\n",
      "Requirement already satisfied: jinja2 in /opt/conda/lib/python3.10/site-packages (from torch>=1.9.0->tabpfn==0.1.9) (3.1.2)\r\n",
      "Requirement already satisfied: MarkupSafe>=2.0 in /opt/conda/lib/python3.10/site-packages (from jinja2->torch>=1.9.0->tabpfn==0.1.9) (2.1.3)\r\n",
      "Requirement already satisfied: mpmath>=0.19 in /opt/conda/lib/python3.10/site-packages (from sympy->torch>=1.9.0->tabpfn==0.1.9) (1.3.0)\r\n",
      "Installing collected packages: tabpfn\r\n",
      "Successfully installed tabpfn-0.1.9\r\n"
     ]
    }
   ],
   "source": [
    "!pip install /kaggle/input/tabpfn-019-whl/tabpfn-0.1.9-py3-none-any.whl\n",
    "!mkdir /opt/conda/lib/python3.10/site-packages/tabpfn/models_diff\n",
    "!cp /kaggle/input/tabpfn-019-whl/prior_diff_real_checkpoint_n_0_epoch_100.cpkt /opt/conda/lib/python3.10/site-packages/tabpfn/models_diff/"
   ]
  },
  {
   "cell_type": "markdown",
   "id": "9424b941",
   "metadata": {
    "papermill": {
     "duration": 0.007001,
     "end_time": "2023-08-09T04:50:12.846846",
     "exception": false,
     "start_time": "2023-08-09T04:50:12.839845",
     "status": "completed"
    },
    "tags": []
   },
   "source": [
    "首先，我们观察 `train.csv` 和 `greeks.csv` 的元素组成:"
   ]
  },
  {
   "cell_type": "code",
   "execution_count": 2,
   "id": "fc75fdcd",
   "metadata": {
    "execution": {
     "iopub.execute_input": "2023-08-09T04:50:12.862704Z",
     "iopub.status.busy": "2023-08-09T04:50:12.862334Z",
     "iopub.status.idle": "2023-08-09T04:50:19.484971Z",
     "shell.execute_reply": "2023-08-09T04:50:19.483839Z"
    },
    "papermill": {
     "duration": 6.634682,
     "end_time": "2023-08-09T04:50:19.488416",
     "exception": false,
     "start_time": "2023-08-09T04:50:12.853734",
     "status": "completed"
    },
    "tags": []
   },
   "outputs": [
    {
     "name": "stderr",
     "output_type": "stream",
     "text": [
      "/opt/conda/lib/python3.10/site-packages/scipy/__init__.py:146: UserWarning: A NumPy version >=1.16.5 and <1.23.0 is required for this version of SciPy (detected version 1.23.5\n",
      "  warnings.warn(f\"A NumPy version >={np_minversion} and <{np_maxversion}\"\n"
     ]
    },
    {
     "name": "stdout",
     "output_type": "stream",
     "text": [
      "\n",
      "训练集概貌如下:\n",
      "             Id        AB          AF          AH         AM        AR  \\\n",
      "0  000ff2bfdfe9  0.209377  3109.03329   85.200147  22.394407  8.138688   \n",
      "1  007255e47698  0.145282   978.76416   85.200147  36.968889  8.138688   \n",
      "2  013f2bd269f5  0.470030  2635.10654   85.200147  32.360553  8.138688   \n",
      "3  043ac50845d5  0.252107  3819.65177  120.201618  77.112203  8.138688   \n",
      "4  044fb8a146ec  0.380297  3733.04844   85.200147  14.103738  8.138688   \n",
      "\n",
      "         AX        AY         AZ          BC  ...        FL        FR  \\\n",
      "0  0.699861  0.025578   9.812214    5.555634  ...  7.298162   1.73855   \n",
      "1  3.632190  0.025578  13.517790    1.229900  ...  0.173229   0.49706   \n",
      "2  6.732840  0.025578  12.824570    1.229900  ...  7.709560   0.97556   \n",
      "3  3.685344  0.025578  11.053708    1.229900  ...  6.122162   0.49706   \n",
      "4  3.942255  0.054810   3.396778  102.151980  ...  8.153058  48.50134   \n",
      "\n",
      "         FS         GB          GE            GF         GH         GI  \\\n",
      "0  0.094822  11.339138   72.611063   2003.810319  22.136229  69.834944   \n",
      "1  0.568932   9.292698   72.611063  27981.562750  29.135430  32.131996   \n",
      "2  1.198821  37.077772   88.609437  13676.957810  28.022851  35.192676   \n",
      "3  0.284466  18.529584   82.416803   2094.262452  39.948656  90.493248   \n",
      "4  0.121914  16.408728  146.109943   8524.370502  45.381316  36.262628   \n",
      "\n",
      "          GL  Class  \n",
      "0   0.120343      1  \n",
      "1  21.978000      0  \n",
      "2   0.196941      0  \n",
      "3   0.155829      0  \n",
      "4   0.096614      1  \n",
      "\n",
      "[5 rows x 58 columns]\n",
      "\n",
      "完整训练集的尺寸是 (617, 58)。\n",
      "\n",
      "训练集的元数据概貌如下:\n",
      "             Id Alpha Beta Gamma Delta    Epsilon\n",
      "0  000ff2bfdfe9     B    C     G     D  3/19/2019\n",
      "1  007255e47698     A    C     M     B    Unknown\n",
      "2  013f2bd269f5     A    C     M     B    Unknown\n",
      "3  043ac50845d5     A    C     M     B    Unknown\n",
      "4  044fb8a146ec     D    B     F     B  3/25/2020\n",
      "\n",
      "完整训练集元数据的尺寸是 (617, 6)。\n"
     ]
    }
   ],
   "source": [
    "import numpy as np \n",
    "import pandas as pd \n",
    "import os\n",
    "import xgboost\n",
    "import matplotlib.pyplot as plt\n",
    "import copy\n",
    "import seaborn as sns\n",
    "import category_encoders as ce\n",
    "from collections import Counter\n",
    "\n",
    "from sklearn.model_selection import train_test_split\n",
    "from sklearn.model_selection import KFold\n",
    "from sklearn.model_selection import GridSearchCV\n",
    "from sklearn.model_selection import cross_val_score\n",
    "from sklearn.impute import SimpleImputer\n",
    "from sklearn.model_selection import StratifiedKFold\n",
    "from sklearn.metrics import accuracy_score\n",
    "\n",
    "from tabpfn import TabPFNClassifier\n",
    "from xgboost import XGBClassifier\n",
    "from sklearn.tree import DecisionTreeClassifier\n",
    "from sklearn.ensemble import RandomForestClassifier\n",
    "\n",
    "from xgboost import plot_tree\n",
    "from xgboost import plot_importance\n",
    "\n",
    "from imblearn.over_sampling import RandomOverSampler\n",
    "from imblearn.under_sampling import RandomUnderSampler\n",
    "from imblearn.over_sampling import BorderlineSMOTE\n",
    "\n",
    "# \"taqaddum\" 的缩写，阿拉伯语中意为“进展”，用于在循环中显示进度条。\n",
    "from tqdm.notebook import tqdm\n",
    "\n",
    "'''\n",
    "for dirname, _, filenames in os.walk('/kaggle/input'):\n",
    "    for filename in filenames:\n",
    "        print(os.path.join(dirname, filename))\n",
    "'''\n",
    "        \n",
    "train_dataset_df = pd.read_csv(\"/kaggle/input/icr-identify-age-related-conditions/train.csv\")\n",
    "meta_dataset_df = pd.read_csv(\"/kaggle/input/icr-identify-age-related-conditions/greeks.csv\")\n",
    "sample_submission_df = pd.read_csv(\"/kaggle/input/icr-identify-age-related-conditions/sample_submission.csv\")\n",
    "test_dataset_df = pd.read_csv(\"/kaggle/input/icr-identify-age-related-conditions/test.csv\")\n",
    "\n",
    "print(\"\\n训练集概貌如下:\")\n",
    "print(train_dataset_df.head())\n",
    "print(\"\\n完整训练集的尺寸是 {}。\".format(train_dataset_df.shape))\n",
    "\n",
    "print(\"\\n训练集的元数据概貌如下:\")\n",
    "print(meta_dataset_df.head())\n",
    "print(\"\\n完整训练集元数据的尺寸是 {}。\".format(meta_dataset_df.shape))"
   ]
  },
  {
   "cell_type": "code",
   "execution_count": 3,
   "id": "cc488c04",
   "metadata": {
    "execution": {
     "iopub.execute_input": "2023-08-09T04:50:19.504927Z",
     "iopub.status.busy": "2023-08-09T04:50:19.504111Z",
     "iopub.status.idle": "2023-08-09T04:50:19.666353Z",
     "shell.execute_reply": "2023-08-09T04:50:19.665367Z"
    },
    "papermill": {
     "duration": 0.172855,
     "end_time": "2023-08-09T04:50:19.669052",
     "exception": false,
     "start_time": "2023-08-09T04:50:19.496197",
     "status": "completed"
    },
    "tags": []
   },
   "outputs": [
    {
     "data": {
      "text/html": [
       "<div>\n",
       "<style scoped>\n",
       "    .dataframe tbody tr th:only-of-type {\n",
       "        vertical-align: middle;\n",
       "    }\n",
       "\n",
       "    .dataframe tbody tr th {\n",
       "        vertical-align: top;\n",
       "    }\n",
       "\n",
       "    .dataframe thead th {\n",
       "        text-align: right;\n",
       "    }\n",
       "</style>\n",
       "<table border=\"1\" class=\"dataframe\">\n",
       "  <thead>\n",
       "    <tr style=\"text-align: right;\">\n",
       "      <th></th>\n",
       "      <th>AB</th>\n",
       "      <th>AF</th>\n",
       "      <th>AH</th>\n",
       "      <th>AM</th>\n",
       "      <th>AR</th>\n",
       "      <th>AX</th>\n",
       "      <th>AY</th>\n",
       "      <th>AZ</th>\n",
       "      <th>BC</th>\n",
       "      <th>BD</th>\n",
       "      <th>...</th>\n",
       "      <th>FL</th>\n",
       "      <th>FR</th>\n",
       "      <th>FS</th>\n",
       "      <th>GB</th>\n",
       "      <th>GE</th>\n",
       "      <th>GF</th>\n",
       "      <th>GH</th>\n",
       "      <th>GI</th>\n",
       "      <th>GL</th>\n",
       "      <th>Class</th>\n",
       "    </tr>\n",
       "  </thead>\n",
       "  <tbody>\n",
       "    <tr>\n",
       "      <th>count</th>\n",
       "      <td>617.000000</td>\n",
       "      <td>617.000000</td>\n",
       "      <td>617.000000</td>\n",
       "      <td>617.000000</td>\n",
       "      <td>617.000000</td>\n",
       "      <td>617.000000</td>\n",
       "      <td>617.000000</td>\n",
       "      <td>617.000000</td>\n",
       "      <td>617.000000</td>\n",
       "      <td>617.000000</td>\n",
       "      <td>...</td>\n",
       "      <td>616.000000</td>\n",
       "      <td>617.000000</td>\n",
       "      <td>615.000000</td>\n",
       "      <td>617.000000</td>\n",
       "      <td>617.000000</td>\n",
       "      <td>617.000000</td>\n",
       "      <td>617.000000</td>\n",
       "      <td>617.000000</td>\n",
       "      <td>616.000000</td>\n",
       "      <td>617.000000</td>\n",
       "    </tr>\n",
       "    <tr>\n",
       "      <th>mean</th>\n",
       "      <td>0.477149</td>\n",
       "      <td>3502.013221</td>\n",
       "      <td>118.624513</td>\n",
       "      <td>38.968552</td>\n",
       "      <td>10.128242</td>\n",
       "      <td>5.545576</td>\n",
       "      <td>0.060320</td>\n",
       "      <td>10.566447</td>\n",
       "      <td>8.053012</td>\n",
       "      <td>5350.388655</td>\n",
       "      <td>...</td>\n",
       "      <td>5.433199</td>\n",
       "      <td>3.533905</td>\n",
       "      <td>0.421501</td>\n",
       "      <td>20.724856</td>\n",
       "      <td>131.714987</td>\n",
       "      <td>14679.595398</td>\n",
       "      <td>31.489716</td>\n",
       "      <td>50.584437</td>\n",
       "      <td>8.530961</td>\n",
       "      <td>0.175041</td>\n",
       "    </tr>\n",
       "    <tr>\n",
       "      <th>std</th>\n",
       "      <td>0.468388</td>\n",
       "      <td>2300.322717</td>\n",
       "      <td>127.838950</td>\n",
       "      <td>69.728226</td>\n",
       "      <td>10.518877</td>\n",
       "      <td>2.551696</td>\n",
       "      <td>0.416817</td>\n",
       "      <td>4.350645</td>\n",
       "      <td>65.166943</td>\n",
       "      <td>3021.326641</td>\n",
       "      <td>...</td>\n",
       "      <td>11.496257</td>\n",
       "      <td>50.181948</td>\n",
       "      <td>1.305365</td>\n",
       "      <td>9.991907</td>\n",
       "      <td>144.181524</td>\n",
       "      <td>19352.959387</td>\n",
       "      <td>9.864239</td>\n",
       "      <td>36.266251</td>\n",
       "      <td>10.327010</td>\n",
       "      <td>0.380310</td>\n",
       "    </tr>\n",
       "    <tr>\n",
       "      <th>min</th>\n",
       "      <td>0.081187</td>\n",
       "      <td>192.593280</td>\n",
       "      <td>85.200147</td>\n",
       "      <td>3.177522</td>\n",
       "      <td>8.138688</td>\n",
       "      <td>0.699861</td>\n",
       "      <td>0.025578</td>\n",
       "      <td>3.396778</td>\n",
       "      <td>1.229900</td>\n",
       "      <td>1693.624320</td>\n",
       "      <td>...</td>\n",
       "      <td>0.173229</td>\n",
       "      <td>0.497060</td>\n",
       "      <td>0.067730</td>\n",
       "      <td>4.102182</td>\n",
       "      <td>72.611063</td>\n",
       "      <td>13.038894</td>\n",
       "      <td>9.432735</td>\n",
       "      <td>0.897628</td>\n",
       "      <td>0.001129</td>\n",
       "      <td>0.000000</td>\n",
       "    </tr>\n",
       "    <tr>\n",
       "      <th>25%</th>\n",
       "      <td>0.252107</td>\n",
       "      <td>2197.345480</td>\n",
       "      <td>85.200147</td>\n",
       "      <td>12.270314</td>\n",
       "      <td>8.138688</td>\n",
       "      <td>4.128294</td>\n",
       "      <td>0.025578</td>\n",
       "      <td>8.129580</td>\n",
       "      <td>1.229900</td>\n",
       "      <td>4155.702870</td>\n",
       "      <td>...</td>\n",
       "      <td>0.173229</td>\n",
       "      <td>0.497060</td>\n",
       "      <td>0.067730</td>\n",
       "      <td>14.036718</td>\n",
       "      <td>72.611063</td>\n",
       "      <td>2798.992584</td>\n",
       "      <td>25.034888</td>\n",
       "      <td>23.011684</td>\n",
       "      <td>0.124392</td>\n",
       "      <td>0.000000</td>\n",
       "    </tr>\n",
       "    <tr>\n",
       "      <th>50%</th>\n",
       "      <td>0.354659</td>\n",
       "      <td>3120.318960</td>\n",
       "      <td>85.200147</td>\n",
       "      <td>20.533110</td>\n",
       "      <td>8.138688</td>\n",
       "      <td>5.031912</td>\n",
       "      <td>0.025578</td>\n",
       "      <td>10.461320</td>\n",
       "      <td>1.229900</td>\n",
       "      <td>4997.960730</td>\n",
       "      <td>...</td>\n",
       "      <td>3.028141</td>\n",
       "      <td>1.131000</td>\n",
       "      <td>0.250601</td>\n",
       "      <td>18.771436</td>\n",
       "      <td>72.611063</td>\n",
       "      <td>7838.273610</td>\n",
       "      <td>30.608946</td>\n",
       "      <td>41.007968</td>\n",
       "      <td>0.337827</td>\n",
       "      <td>0.000000</td>\n",
       "    </tr>\n",
       "    <tr>\n",
       "      <th>75%</th>\n",
       "      <td>0.559763</td>\n",
       "      <td>4361.637390</td>\n",
       "      <td>113.739540</td>\n",
       "      <td>39.139886</td>\n",
       "      <td>8.138688</td>\n",
       "      <td>6.431634</td>\n",
       "      <td>0.036845</td>\n",
       "      <td>12.969516</td>\n",
       "      <td>5.081244</td>\n",
       "      <td>6035.885700</td>\n",
       "      <td>...</td>\n",
       "      <td>6.238814</td>\n",
       "      <td>1.512060</td>\n",
       "      <td>0.535067</td>\n",
       "      <td>25.608406</td>\n",
       "      <td>127.591671</td>\n",
       "      <td>19035.709240</td>\n",
       "      <td>36.863947</td>\n",
       "      <td>67.931664</td>\n",
       "      <td>21.978000</td>\n",
       "      <td>0.000000</td>\n",
       "    </tr>\n",
       "    <tr>\n",
       "      <th>max</th>\n",
       "      <td>6.161666</td>\n",
       "      <td>28688.187660</td>\n",
       "      <td>1910.123198</td>\n",
       "      <td>630.518230</td>\n",
       "      <td>178.943634</td>\n",
       "      <td>38.270880</td>\n",
       "      <td>10.315851</td>\n",
       "      <td>38.971568</td>\n",
       "      <td>1463.693448</td>\n",
       "      <td>53060.599240</td>\n",
       "      <td>...</td>\n",
       "      <td>137.932739</td>\n",
       "      <td>1244.227020</td>\n",
       "      <td>31.365763</td>\n",
       "      <td>135.781294</td>\n",
       "      <td>1497.351958</td>\n",
       "      <td>143790.071200</td>\n",
       "      <td>81.210825</td>\n",
       "      <td>191.194764</td>\n",
       "      <td>21.978000</td>\n",
       "      <td>1.000000</td>\n",
       "    </tr>\n",
       "  </tbody>\n",
       "</table>\n",
       "<p>8 rows × 56 columns</p>\n",
       "</div>"
      ],
      "text/plain": [
       "               AB            AF           AH          AM          AR  \\\n",
       "count  617.000000    617.000000   617.000000  617.000000  617.000000   \n",
       "mean     0.477149   3502.013221   118.624513   38.968552   10.128242   \n",
       "std      0.468388   2300.322717   127.838950   69.728226   10.518877   \n",
       "min      0.081187    192.593280    85.200147    3.177522    8.138688   \n",
       "25%      0.252107   2197.345480    85.200147   12.270314    8.138688   \n",
       "50%      0.354659   3120.318960    85.200147   20.533110    8.138688   \n",
       "75%      0.559763   4361.637390   113.739540   39.139886    8.138688   \n",
       "max      6.161666  28688.187660  1910.123198  630.518230  178.943634   \n",
       "\n",
       "               AX          AY          AZ           BC           BD   ...  \\\n",
       "count  617.000000  617.000000  617.000000   617.000000    617.000000  ...   \n",
       "mean     5.545576    0.060320   10.566447     8.053012   5350.388655  ...   \n",
       "std      2.551696    0.416817    4.350645    65.166943   3021.326641  ...   \n",
       "min      0.699861    0.025578    3.396778     1.229900   1693.624320  ...   \n",
       "25%      4.128294    0.025578    8.129580     1.229900   4155.702870  ...   \n",
       "50%      5.031912    0.025578   10.461320     1.229900   4997.960730  ...   \n",
       "75%      6.431634    0.036845   12.969516     5.081244   6035.885700  ...   \n",
       "max     38.270880   10.315851   38.971568  1463.693448  53060.599240  ...   \n",
       "\n",
       "               FL           FR          FS          GB           GE  \\\n",
       "count  616.000000   617.000000  615.000000  617.000000   617.000000   \n",
       "mean     5.433199     3.533905    0.421501   20.724856   131.714987   \n",
       "std     11.496257    50.181948    1.305365    9.991907   144.181524   \n",
       "min      0.173229     0.497060    0.067730    4.102182    72.611063   \n",
       "25%      0.173229     0.497060    0.067730   14.036718    72.611063   \n",
       "50%      3.028141     1.131000    0.250601   18.771436    72.611063   \n",
       "75%      6.238814     1.512060    0.535067   25.608406   127.591671   \n",
       "max    137.932739  1244.227020   31.365763  135.781294  1497.351958   \n",
       "\n",
       "                  GF          GH          GI          GL       Class  \n",
       "count     617.000000  617.000000  617.000000  616.000000  617.000000  \n",
       "mean    14679.595398   31.489716   50.584437    8.530961    0.175041  \n",
       "std     19352.959387    9.864239   36.266251   10.327010    0.380310  \n",
       "min        13.038894    9.432735    0.897628    0.001129    0.000000  \n",
       "25%      2798.992584   25.034888   23.011684    0.124392    0.000000  \n",
       "50%      7838.273610   30.608946   41.007968    0.337827    0.000000  \n",
       "75%     19035.709240   36.863947   67.931664   21.978000    0.000000  \n",
       "max    143790.071200   81.210825  191.194764   21.978000    1.000000  \n",
       "\n",
       "[8 rows x 56 columns]"
      ]
     },
     "execution_count": 3,
     "metadata": {},
     "output_type": "execute_result"
    }
   ],
   "source": [
    "train_dataset_df.describe()"
   ]
  },
  {
   "cell_type": "markdown",
   "id": "5715c480",
   "metadata": {
    "papermill": {
     "duration": 0.007663,
     "end_time": "2023-08-09T04:50:19.685390",
     "exception": false,
     "start_time": "2023-08-09T04:50:19.677727",
     "status": "completed"
    },
    "tags": []
   },
   "source": [
    "数据集：58 列，其中 1 列为 ID（没有用处），一列的病与否（0/1），feature 为 56。\n",
    "\n",
    "不难发现两类数据比例严重不均衡。"
   ]
  },
  {
   "cell_type": "code",
   "execution_count": 4,
   "id": "be6325a4",
   "metadata": {
    "execution": {
     "iopub.execute_input": "2023-08-09T04:50:19.701591Z",
     "iopub.status.busy": "2023-08-09T04:50:19.701235Z",
     "iopub.status.idle": "2023-08-09T04:50:19.900260Z",
     "shell.execute_reply": "2023-08-09T04:50:19.899257Z"
    },
    "papermill": {
     "duration": 0.210738,
     "end_time": "2023-08-09T04:50:19.903626",
     "exception": false,
     "start_time": "2023-08-09T04:50:19.692888",
     "status": "completed"
    },
    "tags": []
   },
   "outputs": [
    {
     "data": {
      "text/plain": [
       "<Axes: ylabel='Class'>"
      ]
     },
     "execution_count": 4,
     "metadata": {},
     "output_type": "execute_result"
    },
    {
     "data": {
      "image/png": "[encoded data removed]",
      "text/plain": [
       "<Figure size 640x480 with 1 Axes>"
      ]
     },
     "metadata": {},
     "output_type": "display_data"
    }
   ],
   "source": [
    "plot_df = train_dataset_df.Class.value_counts()\n",
    "plot_df.plot(kind=\"pie\")"
   ]
  },
  {
   "cell_type": "markdown",
   "id": "e1d9d0cb",
   "metadata": {
    "papermill": {
     "duration": 0.017663,
     "end_time": "2023-08-09T04:50:19.939868",
     "exception": false,
     "start_time": "2023-08-09T04:50:19.922205",
     "status": "completed"
    },
    "tags": []
   },
   "source": [
    "做了一下每一个特征的数值分布，发现有大量极端值。代码在此从略，可以在较早的 Version 中找到。"
   ]
  },
  {
   "cell_type": "markdown",
   "id": "d22a73ee",
   "metadata": {
    "papermill": {
     "duration": 0.019176,
     "end_time": "2023-08-09T04:50:19.977149",
     "exception": false,
     "start_time": "2023-08-09T04:50:19.957973",
     "status": "completed"
    },
    "tags": []
   },
   "source": [
    "---\n",
    "\n",
    "## 辅助函数编写部分\n",
    "\n",
    "#### 缺省值检查与处理\n",
    "接下来，我们先简单装配一个简单的 NaN 处理。"
   ]
  },
  {
   "cell_type": "code",
   "execution_count": 5,
   "id": "cf5ffc3f",
   "metadata": {
    "execution": {
     "iopub.execute_input": "2023-08-09T04:50:19.996058Z",
     "iopub.status.busy": "2023-08-09T04:50:19.995679Z",
     "iopub.status.idle": "2023-08-09T04:50:20.023967Z",
     "shell.execute_reply": "2023-08-09T04:50:20.022537Z"
    },
    "papermill": {
     "duration": 0.040153,
     "end_time": "2023-08-09T04:50:20.026275",
     "exception": false,
     "start_time": "2023-08-09T04:50:19.986122",
     "status": "completed"
    },
    "tags": []
   },
   "outputs": [
    {
     "name": "stdout",
     "output_type": "stream",
     "text": [
      "column: BQ --> 60\n",
      "column: CB --> 2\n",
      "column: CC --> 3\n",
      "column: DU --> 1\n",
      "column: EL --> 60\n",
      "column: FC --> 1\n",
      "column: FL --> 1\n",
      "column: FS --> 2\n",
      "column: GL --> 1\n"
     ]
    }
   ],
   "source": [
    "column_names = list(train_dataset_df.columns.values)\n",
    "\n",
    "# 看一看每个特征都有多少空出来的。\n",
    "def check_nan(dataset: pd.DataFrame, column_names):\n",
    "    for column in column_names:\n",
    "        if dataset[column].isnull().sum() != 0:\n",
    "            print(\"column: {0} --> {1}\".format(column, dataset[column].isnull().sum()))\n",
    "        \n",
    "check_nan(train_dataset_df, column_names)"
   ]
  },
  {
   "cell_type": "code",
   "execution_count": 6,
   "id": "3630d822",
   "metadata": {
    "execution": {
     "iopub.execute_input": "2023-08-09T04:50:20.045557Z",
     "iopub.status.busy": "2023-08-09T04:50:20.044588Z",
     "iopub.status.idle": "2023-08-09T04:50:20.051018Z",
     "shell.execute_reply": "2023-08-09T04:50:20.050090Z"
    },
    "papermill": {
     "duration": 0.017901,
     "end_time": "2023-08-09T04:50:20.053307",
     "exception": false,
     "start_time": "2023-08-09T04:50:20.035406",
     "status": "completed"
    },
    "tags": []
   },
   "outputs": [],
   "source": [
    "# 根据特征分析，不应使用平均数（有极大之值）和众数（小数点）。\n",
    "def fill_nan(dataset: pd.DataFrame, column_names):\n",
    "    new_dataset = copy.deepcopy(dataset)\n",
    "    \n",
    "    for column in column_names:\n",
    "        if dataset[column].isnull().sum() != 0:\n",
    "            median = dataset[column].median()\n",
    "            new_dataset[column].fillna(median, inplace = True)\n",
    "            \n",
    "    return new_dataset"
   ]
  },
  {
   "cell_type": "markdown",
   "id": "b8365bf0",
   "metadata": {
    "papermill": {
     "duration": 0.007983,
     "end_time": "2023-08-09T04:50:20.069539",
     "exception": false,
     "start_time": "2023-08-09T04:50:20.061556",
     "status": "completed"
    },
    "tags": []
   },
   "source": [
    "---\n",
    "\n",
    "#### balanced cross entropy 函数\n",
    "\n",
    "cross-entropy 函数。参考 [这里](https://www.kaggle.com/competitions/icr-identify-age-related-conditions/discussion/422442)。"
   ]
  },
  {
   "cell_type": "code",
   "execution_count": 7,
   "id": "e411a9a1",
   "metadata": {
    "execution": {
     "iopub.execute_input": "2023-08-09T04:50:20.087348Z",
     "iopub.status.busy": "2023-08-09T04:50:20.087059Z",
     "iopub.status.idle": "2023-08-09T04:50:20.094415Z",
     "shell.execute_reply": "2023-08-09T04:50:20.093392Z"
    },
    "papermill": {
     "duration": 0.018952,
     "end_time": "2023-08-09T04:50:20.096765",
     "exception": false,
     "start_time": "2023-08-09T04:50:20.077813",
     "status": "completed"
    },
    "tags": []
   },
   "outputs": [],
   "source": [
    "def balanced_log_loss(y_true: np.ndarray, y_pred: np.ndarray):\n",
    "    \n",
    "    # y_true: 正确的标签，一个数组。\n",
    "    # y_pred: 预测的概率数组，每一个值代表该位置有多大可能为有病（1），即 p_1。\n",
    "\n",
    "    N_0 = np.sum(1 - y_true)\n",
    "    N_1 = np.sum(y_true)\n",
    "    \n",
    "    # 权重计算。\n",
    "    w_0 = 1 / N_0\n",
    "    w_1 = 1 / N_1\n",
    "    \n",
    "    # 将数组 y_pred 中的元素限制在一个接近 0 和 1 的范围内，避免概率值太极端导致计算问题。\n",
    "    # 在机器学习中，通常会对概率进行截断处理，以确保数值的稳定性和避免数值计算的错误。\n",
    "    p_1 = np.clip(y_pred, 1e-15, 1 - 1e-15)\n",
    "    p_0 = 1 - p_1\n",
    "    \n",
    "    # 交叉熵损失。\n",
    "    log_loss_0 = -np.sum((1 - y_true) * np.log(p_0))\n",
    "    log_loss_1 = -np.sum(y_true * np.log(p_1))\n",
    "    \n",
    "    # 加权计算损失。\n",
    "    balanced_log_loss = 2*(w_0 * log_loss_0 + w_1 * log_loss_1) / (w_0 + w_1)\n",
    "    \n",
    "    # 返回平均损失。\n",
    "    return balanced_log_loss/(N_0+N_1)"
   ]
  },
  {
   "cell_type": "markdown",
   "id": "4e97ec0f",
   "metadata": {
    "papermill": {
     "duration": 0.007615,
     "end_time": "2023-08-09T04:50:20.112144",
     "exception": false,
     "start_time": "2023-08-09T04:50:20.104529",
     "status": "completed"
    },
    "tags": []
   },
   "source": [
    "---\n",
    "\n",
    "## 数据准备与模型训练部分\n",
    "\n",
    "#### 类别特征编码\n",
    "\n",
    "\"EJ\" 列不是数值，因此我们将他们编码为 int 类型。这一步必须要在传入模型之前完成。"
   ]
  },
  {
   "cell_type": "code",
   "execution_count": 8,
   "id": "b8b5c429",
   "metadata": {
    "execution": {
     "iopub.execute_input": "2023-08-09T04:50:20.129153Z",
     "iopub.status.busy": "2023-08-09T04:50:20.128891Z",
     "iopub.status.idle": "2023-08-09T04:50:20.138578Z",
     "shell.execute_reply": "2023-08-09T04:50:20.137528Z"
    },
    "papermill": {
     "duration": 0.020901,
     "end_time": "2023-08-09T04:50:20.140806",
     "exception": false,
     "start_time": "2023-08-09T04:50:20.119905",
     "status": "completed"
    },
    "tags": []
   },
   "outputs": [],
   "source": [
    "# 获取所有预测列。\n",
    "predictor_columns = [n for n in train_dataset_df.columns if n != 'Class' and n != 'Id']\n",
    "\n",
    "first_category = train_dataset_df.EJ.unique()[0] # first_category = 'B'\n",
    "train_dataset_df.EJ = train_dataset_df.EJ.eq(first_category).astype('int') # True = 1, False = 0\n",
    "# counter = Counter(dataset_df.EJ) 509 108\n",
    "\n",
    "first_category = train_dataset_df.EJ.unique()[0]\n",
    "test_dataset_df.EJ = test_dataset_df.EJ.eq(first_category).astype('int') # True = 1, False = 0\n",
    "test_predictors = test_dataset_df[predictor_columns] # 去掉 id。"
   ]
  },
  {
   "cell_type": "markdown",
   "id": "b0bbe51c",
   "metadata": {
    "papermill": {
     "duration": 0.008273,
     "end_time": "2023-08-09T04:50:20.158133",
     "exception": false,
     "start_time": "2023-08-09T04:50:20.149860",
     "status": "completed"
    },
    "tags": []
   },
   "source": [
    "---\n",
    "\n",
    "#### 欠采样数据生成\n",
    "\n",
    "参考的方法中使用了 trival 的 oversample 方法，在这里我们使用 `BorderlineSMOTE`。\n",
    "- 我们在对于 metadata 数据的处理上，没有使用 `times` 这一项。这一维在数据上理应与疾病无关。"
   ]
  },
  {
   "cell_type": "code",
   "execution_count": 9,
   "id": "26a5cf88",
   "metadata": {
    "execution": {
     "iopub.execute_input": "2023-08-09T04:50:20.176674Z",
     "iopub.status.busy": "2023-08-09T04:50:20.176309Z",
     "iopub.status.idle": "2023-08-09T04:50:20.295743Z",
     "shell.execute_reply": "2023-08-09T04:50:20.294896Z"
    },
    "papermill": {
     "duration": 0.131842,
     "end_time": "2023-08-09T04:50:20.298529",
     "exception": false,
     "start_time": "2023-08-09T04:50:20.166687",
     "status": "completed"
    },
    "tags": []
   },
   "outputs": [],
   "source": [
    "# 数据分布不平衡，需要欠采样器。\n",
    "ros = BorderlineSMOTE(random_state=42)\n",
    "\n",
    "train_dataset_nonan = fill_nan(train_dataset_df, column_names)\n",
    "train_dataset_nonanid = train_dataset_nonan.drop(['Id'], axis=1)\n",
    "\n",
    "# 重采样。\n",
    "# meta_dataset_df.Alpha 是类别标签，用作欠采样时候应当生成的类别。y_ros 是 B A D G\n",
    "train_ros, y_ros = ros.fit_resample(train_dataset_nonanid, meta_dataset_df.Alpha)\n",
    "\n",
    "x_ros = train_ros.drop(['Class'], axis=1)\n",
    "\n",
    "# y_.value_counts()/y_.shape[0]\n",
    "# y_ 是 0 和 1。\n",
    "y_ = train_ros.Class"
   ]
  },
  {
   "cell_type": "code",
   "execution_count": 10,
   "id": "9a1a20cb",
   "metadata": {
    "execution": {
     "iopub.execute_input": "2023-08-09T04:50:20.318243Z",
     "iopub.status.busy": "2023-08-09T04:50:20.317932Z",
     "iopub.status.idle": "2023-08-09T04:50:20.331371Z",
     "shell.execute_reply": "2023-08-09T04:50:20.330338Z"
    },
    "papermill": {
     "duration": 0.026226,
     "end_time": "2023-08-09T04:50:20.333825",
     "exception": false,
     "start_time": "2023-08-09T04:50:20.307599",
     "status": "completed"
    },
    "tags": []
   },
   "outputs": [],
   "source": [
    "class Ensemble():\n",
    "    \n",
    "    # 初始化函数。\n",
    "    def __init__(self):\n",
    "        \n",
    "        # 缺省值填充。\n",
    "        self.imputer = SimpleImputer(missing_values=np.nan, strategy='median')\n",
    "        \n",
    "        # 分类器列表。这里也是个调参大头。\n",
    "        self.classifiers = [xgboost.XGBClassifier(tree_method='gpu_hist', n_estimators=100,max_depth=3,learning_rate=0.15,subsample=0.9,colsample_bytree=0.85),\n",
    "                           \n",
    "                           # 在集成模型中使用 N_ensemble_configurations 种不同的配置来构建多个子模型，然后将它们组合起来形成最终的分类器。\n",
    "                           TabPFNClassifier(device='cuda', N_ensemble_configurations=24),\n",
    "                          \n",
    "                           TabPFNClassifier(device='cuda', N_ensemble_configurations=64),\n",
    "                            \n",
    "                           TabPFNClassifier(device='cuda', N_ensemble_configurations=128),\n",
    "                            \n",
    "                           RandomForestClassifier(criterion='entropy', max_depth= None, min_samples_leaf= 1, min_samples_split= 4,n_estimators= 200)\n",
    "                           ]\n",
    "        \n",
    "    \n",
    "    # 模型拟合。注意，这里输入的 y 是 y_meta。\n",
    "    def fit(self,X,y):\n",
    "        \n",
    "        # pd.Series -> np.Ndarray\n",
    "        y = y.values\n",
    "        \n",
    "        # [A, B, ..., G, B] -> [0, 1, ..., 3, 2]\n",
    "        unique_classes, y = np.unique(y, return_inverse=True)\n",
    "        \n",
    "        # self.classes_: ['A', 'B', 'D', 'G']\n",
    "        self.classes_ = unique_classes\n",
    "        \n",
    "        # 祖宗之法不可变...\n",
    "        first_category = X.EJ.unique()[0]\n",
    "        X.EJ = X.EJ.eq(first_category).astype('int')\n",
    "        X = self.imputer.fit_transform(X)\n",
    "\n",
    "        for classifier in self.classifiers:\n",
    "            if classifier==self.classifiers[1] or classifier==self.classifiers[2] or classifier==self.classifiers[3]:\n",
    "                classifier.fit(X, y, overwrite_warning =True) # 不这样写 TabPFNClassifier 会报错。\n",
    "            else :\n",
    "                classifier.fit(X, y)\n",
    "    \n",
    "    # 模型预测。\n",
    "    def predict_proba(self, x):\n",
    "        \n",
    "        # 祖宗之法不可变...\n",
    "        x = self.imputer.transform(x)\n",
    "        \n",
    "        # probabilities 的形状为 (m, n, k)，其中 m 是分类器的个数， n 是样本个数，k 是类别的个数。\n",
    "        probabilities = np.stack([classifier.predict_proba(x) for classifier in self.classifiers])\n",
    "        \n",
    "        # 形状为 (n, k)，表示每个样本属于每个类别的平均概率。\n",
    "        averaged_probabilities = np.mean(probabilities, axis=0)\n",
    "        \n",
    "        class_0_est_instances = averaged_probabilities[:, 0].sum()\n",
    "        others_est_instances = averaged_probabilities[:, 1:].sum()\n",
    "        \n",
    "        # 看着挺复杂，其实就是个归一化。保证概率和为 1。\n",
    "        new_probabilities = averaged_probabilities * np.array([[1/(class_0_est_instances if i==0 else others_est_instances) for i in range(averaged_probabilities.shape[1])]])\n",
    "        return new_probabilities / np.sum(new_probabilities, axis=1, keepdims=1) "
   ]
  },
  {
   "cell_type": "code",
   "execution_count": 11,
   "id": "80de46a1",
   "metadata": {
    "execution": {
     "iopub.execute_input": "2023-08-09T04:50:20.351184Z",
     "iopub.status.busy": "2023-08-09T04:50:20.350906Z",
     "iopub.status.idle": "2023-08-09T04:50:20.363730Z",
     "shell.execute_reply": "2023-08-09T04:50:20.362662Z"
    },
    "papermill": {
     "duration": 0.023905,
     "end_time": "2023-08-09T04:50:20.365780",
     "exception": false,
     "start_time": "2023-08-09T04:50:20.341875",
     "status": "completed"
    },
    "tags": []
   },
   "outputs": [],
   "source": [
    "def training(model, x, y, y_meta):\n",
    "    \n",
    "    outer_results = list()\n",
    "    outer_accuracy = list()\n",
    "    best_loss = np.inf\n",
    "    split = 0\n",
    "    models=[]\n",
    "    \n",
    "    for train_idx,val_idx in tqdm(cross_val.split(x), total = SPLITS):\n",
    "        \n",
    "        split+=1\n",
    "        x_train, x_val = x.iloc[train_idx],x.iloc[val_idx]\n",
    "        y_train, y_val = y_meta.iloc[train_idx], y.iloc[val_idx]\n",
    "             \n",
    "        model.fit(x_train, y_train)\n",
    "        models.append(model)\n",
    "        \n",
    "        # y_pred: [n,4]; probabilities: [n, 2]\n",
    "        y_pred = model.predict_proba(x_val)\n",
    "        probabilities = np.concatenate((y_pred[:,:1], np.sum(y_pred[:,1:], 1, keepdims=True)), axis=1)\n",
    "        \n",
    "        # 量化计算损失。\n",
    "        p0 = probabilities[:,:1]\n",
    "        p0[p0 > 0.86] = 1\n",
    "        p0[p0 < 0.14] = 0\n",
    "        y_p = np.empty((y_pred.shape[0],))\n",
    "        for i in range(y_pred.shape[0]):\n",
    "            if p0[i]>=0.5:\n",
    "                y_p[i]= False\n",
    "            else :\n",
    "                y_p[i]=True\n",
    "        y_p = y_p.astype(int)\n",
    "        loss = balanced_log_loss(y_val,y_p)\n",
    "        diff_count = np.count_nonzero(y_val != y_p)\n",
    "        accuracy = (y_p.size - diff_count) / y_p.size\n",
    "\n",
    "        if loss<best_loss:\n",
    "            best_model = model\n",
    "            best_loss = loss\n",
    "            best_accuracy = accuracy\n",
    "            print('best_model_saved')\n",
    "        \n",
    "        outer_results.append(loss)\n",
    "        outer_accuracy.append(accuracy)\n",
    "        \n",
    "        print('>val_loss=%.5f, split = %.1f' % (loss,split))\n",
    "        print('accuracy=', str(accuracy))\n",
    "        \n",
    "    print('LOSS: %.5f' % (np.mean(outer_results)))\n",
    "    print('ACCURACY: %.5f' % (np.mean(outer_accuracy)))\n",
    "\n",
    "    return best_model, models"
   ]
  },
  {
   "cell_type": "markdown",
   "id": "f6d60853",
   "metadata": {
    "papermill": {
     "duration": 0.007868,
     "end_time": "2023-08-09T04:50:20.381708",
     "exception": false,
     "start_time": "2023-08-09T04:50:20.373840",
     "status": "completed"
    },
    "tags": []
   },
   "source": [
    "---\n",
    "\n",
    "#### 模型训练\n",
    "\n",
    "我们取折数为 5。"
   ]
  },
  {
   "cell_type": "code",
   "execution_count": 12,
   "id": "792ce3bf",
   "metadata": {
    "execution": {
     "iopub.execute_input": "2023-08-09T04:50:20.398862Z",
     "iopub.status.busy": "2023-08-09T04:50:20.398596Z",
     "iopub.status.idle": "2023-08-09T04:52:00.572445Z",
     "shell.execute_reply": "2023-08-09T04:52:00.571349Z"
    },
    "papermill": {
     "duration": 100.18678,
     "end_time": "2023-08-09T04:52:00.576614",
     "exception": false,
     "start_time": "2023-08-09T04:50:20.389834",
     "status": "completed"
    },
    "tags": []
   },
   "outputs": [
    {
     "name": "stdout",
     "output_type": "stream",
     "text": [
      "Loading model that can be used for inference only\n",
      "Using a Transformer with 25.82 M parameters\n",
      "Loading model that can be used for inference only\n",
      "Using a Transformer with 25.82 M parameters\n",
      "Loading model that can be used for inference only\n",
      "Using a Transformer with 25.82 M parameters\n"
     ]
    },
    {
     "data": {
      "application/vnd.jupyter.widget-view+json": {
       "model_id": "e5df6cdc605b40d8bb836199aefc6a13",
       "version_major": 2,
       "version_minor": 0
      },
      "text/plain": [
       "  0%|          | 0/5 [00:00<?, ?it/s]"
      ]
     },
     "metadata": {},
     "output_type": "display_data"
    },
    {
     "name": "stderr",
     "output_type": "stream",
     "text": [
      "/tmp/ipykernel_23/3186108374.py:37: SettingWithCopyWarning: \n",
      "A value is trying to be set on a copy of a slice from a DataFrame.\n",
      "Try using .loc[row_indexer,col_indexer] = value instead\n",
      "\n",
      "See the caveats in the documentation: https://pandas.pydata.org/pandas-docs/stable/user_guide/indexing.html#returning-a-view-versus-a-copy\n",
      "  X.EJ = X.EJ.eq(first_category).astype('int')\n"
     ]
    },
    {
     "name": "stdout",
     "output_type": "stream",
     "text": [
      "best_model_saved\n",
      ">val_loss=0.00000, split = 1.0\n",
      "accuracy= 1.0\n"
     ]
    },
    {
     "name": "stderr",
     "output_type": "stream",
     "text": [
      "/tmp/ipykernel_23/3186108374.py:37: SettingWithCopyWarning: \n",
      "A value is trying to be set on a copy of a slice from a DataFrame.\n",
      "Try using .loc[row_indexer,col_indexer] = value instead\n",
      "\n",
      "See the caveats in the documentation: https://pandas.pydata.org/pandas-docs/stable/user_guide/indexing.html#returning-a-view-versus-a-copy\n",
      "  X.EJ = X.EJ.eq(first_category).astype('int')\n"
     ]
    },
    {
     "name": "stdout",
     "output_type": "stream",
     "text": [
      ">val_loss=0.13761, split = 2.0\n",
      "accuracy= 0.9926289926289926\n"
     ]
    },
    {
     "name": "stderr",
     "output_type": "stream",
     "text": [
      "/tmp/ipykernel_23/3186108374.py:37: SettingWithCopyWarning: \n",
      "A value is trying to be set on a copy of a slice from a DataFrame.\n",
      "Try using .loc[row_indexer,col_indexer] = value instead\n",
      "\n",
      "See the caveats in the documentation: https://pandas.pydata.org/pandas-docs/stable/user_guide/indexing.html#returning-a-view-versus-a-copy\n",
      "  X.EJ = X.EJ.eq(first_category).astype('int')\n"
     ]
    },
    {
     "name": "stdout",
     "output_type": "stream",
     "text": [
      ">val_loss=0.27773, split = 3.0\n",
      "accuracy= 0.9852579852579852\n"
     ]
    },
    {
     "name": "stderr",
     "output_type": "stream",
     "text": [
      "/tmp/ipykernel_23/3186108374.py:37: SettingWithCopyWarning: \n",
      "A value is trying to be set on a copy of a slice from a DataFrame.\n",
      "Try using .loc[row_indexer,col_indexer] = value instead\n",
      "\n",
      "See the caveats in the documentation: https://pandas.pydata.org/pandas-docs/stable/user_guide/indexing.html#returning-a-view-versus-a-copy\n",
      "  X.EJ = X.EJ.eq(first_category).astype('int')\n"
     ]
    },
    {
     "name": "stdout",
     "output_type": "stream",
     "text": [
      ">val_loss=0.15012, split = 4.0\n",
      "accuracy= 0.9901719901719902\n"
     ]
    },
    {
     "name": "stderr",
     "output_type": "stream",
     "text": [
      "/tmp/ipykernel_23/3186108374.py:37: SettingWithCopyWarning: \n",
      "A value is trying to be set on a copy of a slice from a DataFrame.\n",
      "Try using .loc[row_indexer,col_indexer] = value instead\n",
      "\n",
      "See the caveats in the documentation: https://pandas.pydata.org/pandas-docs/stable/user_guide/indexing.html#returning-a-view-versus-a-copy\n",
      "  X.EJ = X.EJ.eq(first_category).astype('int')\n"
     ]
    },
    {
     "name": "stdout",
     "output_type": "stream",
     "text": [
      ">val_loss=0.21518, split = 5.0\n",
      "accuracy= 0.9852579852579852\n",
      "LOSS: 0.15613\n",
      "ACCURACY: 0.99066\n"
     ]
    }
   ],
   "source": [
    "SPLITS = 5\n",
    "cross_val = KFold(n_splits = SPLITS, shuffle=True, random_state=42)\n",
    "\n",
    "model_type = Ensemble()\n",
    "best_model, models = training(model_type, x_ros, y_, y_ros)"
   ]
  },
  {
   "cell_type": "markdown",
   "id": "3ce39f0b",
   "metadata": {
    "papermill": {
     "duration": 0.009585,
     "end_time": "2023-08-09T04:52:00.596037",
     "exception": false,
     "start_time": "2023-08-09T04:52:00.586452",
     "status": "completed"
    },
    "tags": []
   },
   "source": [
    "---\n",
    "\n",
    "## 预测与提交部分\n",
    "#### 预测结果"
   ]
  },
  {
   "cell_type": "code",
   "execution_count": 13,
   "id": "f4df4351",
   "metadata": {
    "execution": {
     "iopub.execute_input": "2023-08-09T04:52:00.618763Z",
     "iopub.status.busy": "2023-08-09T04:52:00.617162Z",
     "iopub.status.idle": "2023-08-09T04:52:15.306995Z",
     "shell.execute_reply": "2023-08-09T04:52:15.305912Z"
    },
    "papermill": {
     "duration": 14.703885,
     "end_time": "2023-08-09T04:52:15.310083",
     "exception": false,
     "start_time": "2023-08-09T04:52:00.606198",
     "status": "completed"
    },
    "tags": []
   },
   "outputs": [],
   "source": [
    "y_pred = best_model.predict_proba(test_predictors)\n",
    "\n",
    "# 将 [B G D] 三类的概率加在一起，算作疾病类别。 5x4 -> 5x2\n",
    "probabilities = np.concatenate((y_pred[:,:1], np.sum(y_pred[:,1:], axis=1, keepdims=True)), axis=1)\n",
    "\n",
    "p0 = probabilities[:,:1]\n",
    "p0[p0 > 0.60] = 1\n",
    "p0[p0 < 0.25] = 0"
   ]
  },
  {
   "cell_type": "markdown",
   "id": "51b5343b",
   "metadata": {
    "papermill": {
     "duration": 0.009246,
     "end_time": "2023-08-09T04:52:15.330386",
     "exception": false,
     "start_time": "2023-08-09T04:52:15.321140",
     "status": "completed"
    },
    "tags": []
   },
   "source": [
    "---\n",
    "\n",
    "#### 生成 .csv 文件"
   ]
  },
  {
   "cell_type": "code",
   "execution_count": 14,
   "id": "4fcf958c",
   "metadata": {
    "execution": {
     "iopub.execute_input": "2023-08-09T04:52:15.350089Z",
     "iopub.status.busy": "2023-08-09T04:52:15.349780Z",
     "iopub.status.idle": "2023-08-09T04:52:15.360581Z",
     "shell.execute_reply": "2023-08-09T04:52:15.359486Z"
    },
    "papermill": {
     "duration": 0.023683,
     "end_time": "2023-08-09T04:52:15.363162",
     "exception": false,
     "start_time": "2023-08-09T04:52:15.339479",
     "status": "completed"
    },
    "tags": []
   },
   "outputs": [],
   "source": [
    "submission = pd.DataFrame(test_dataset_df[\"Id\"], columns=[\"Id\"])\n",
    "\n",
    "# 创建一个名为 class_0 的新列，并将 p0 的值赋给这一列。\n",
    "submission[\"class_0\"] = p0\n",
    "submission[\"class_1\"] = 1 - p0\n",
    "\n",
    "# index = False 表示不将行索引保存在 csv 文件中。\n",
    "submission.to_csv('submission.csv', index=False)"
   ]
  }
 ],
 "metadata": {
  "kernelspec": {
   "display_name": "Python 3",
   "language": "python",
   "name": "python3"
  },
  "language_info": {
   "codemirror_mode": {
    "name": "ipython",
    "version": 3
   },
   "file_extension": ".py",
   "mimetype": "text/x-python",
   "name": "python",
   "nbconvert_exporter": "python",
   "pygments_lexer": "ipython3",
   "version": "3.10.12"
  },
  "papermill": {
   "default_parameters": {},
   "duration": 171.965024,
   "end_time": "2023-08-09T04:52:18.183005",
   "environment_variables": {},
   "exception": null,
   "input_path": "__notebook__.ipynb",
   "output_path": "__notebook__.ipynb",
   "parameters": {},
   "start_time": "2023-08-09T04:49:26.217981",
   "version": "2.4.0"
  },
  "widgets": {
   "application/vnd.jupyter.widget-state+json": {
    "state": {
     "0132f7aa3847480599f965f7f44eb876": {
      "model_module": "@jupyter-widgets/base",
      "model_module_version": "1.2.0",
      "model_name": "LayoutModel",
      "state": {
       "_model_module": "@jupyter-widgets/base",
       "_model_module_version": "1.2.0",
       "_model_name": "LayoutModel",
       "_view_count": null,
       "_view_module": "@jupyter-widgets/base",
       "_view_module_version": "1.2.0",
       "_view_name": "LayoutView",
       "align_content": null,
       "align_items": null,
       "align_self": null,
       "border": null,
       "bottom": null,
       "display": null,
       "flex": null,
       "flex_flow": null,
       "grid_area": null,
       "grid_auto_columns": null,
       "grid_auto_flow": null,
       "grid_auto_rows": null,
       "grid_column": null,
       "grid_gap": null,
       "grid_row": null,
       "grid_template_areas": null,
       "grid_template_columns": null,
       "grid_template_rows": null,
       "height": null,
       "justify_content": null,
       "justify_items": null,
       "left": null,
       "margin": null,
       "max_height": null,
       "max_width": null,
       "min_height": null,
       "min_width": null,
       "object_fit": null,
       "object_position": null,
       "order": null,
       "overflow": null,
       "overflow_x": null,
       "overflow_y": null,
       "padding": null,
       "right": null,
       "top": null,
       "visibility": null,
       "width": null
      }
     },
     "06487274b5994032b90518dfb1e8e898": {
      "model_module": "@jupyter-widgets/base",
      "model_module_version": "1.2.0",
      "model_name": "LayoutModel",
      "state": {
       "_model_module": "@jupyter-widgets/base",
       "_model_module_version": "1.2.0",
       "_model_name": "LayoutModel",
       "_view_count": null,
       "_view_module": "@jupyter-widgets/base",
       "_view_module_version": "1.2.0",
       "_view_name": "LayoutView",
       "align_content": null,
       "align_items": null,
       "align_self": null,
       "border": null,
       "bottom": null,
       "display": null,
       "flex": null,
       "flex_flow": null,
       "grid_area": null,
       "grid_auto_columns": null,
       "grid_auto_flow": null,
       "grid_auto_rows": null,
       "grid_column": null,
       "grid_gap": null,
       "grid_row": null,
       "grid_template_areas": null,
       "grid_template_columns": null,
       "grid_template_rows": null,
       "height": null,
       "justify_content": null,
       "justify_items": null,
       "left": null,
       "margin": null,
       "max_height": null,
       "max_width": null,
       "min_height": null,
       "min_width": null,
       "object_fit": null,
       "object_position": null,
       "order": null,
       "overflow": null,
       "overflow_x": null,
       "overflow_y": null,
       "padding": null,
       "right": null,
       "top": null,
       "visibility": null,
       "width": null
      }
     },
     "43298b9e042e44d08a8470ec6e7c3d8e": {
      "model_module": "@jupyter-widgets/controls",
      "model_module_version": "1.5.0",
      "model_name": "HTMLModel",
      "state": {
       "_dom_classes": [],
       "_model_module": "@jupyter-widgets/controls",
       "_model_module_version": "1.5.0",
       "_model_name": "HTMLModel",
       "_view_count": null,
       "_view_module": "@jupyter-widgets/controls",
       "_view_module_version": "1.5.0",
       "_view_name": "HTMLView",
       "description": "",
       "description_tooltip": null,
       "layout": "IPY_MODEL_0132f7aa3847480599f965f7f44eb876",
       "placeholder": "​",
       "style": "IPY_MODEL_c6ea41970dd4448f92f9180a4e2799c8",
       "value": "100%"
      }
     },
     "73eb8ff9f1e8481fb1e9bd1226b7039d": {
      "model_module": "@jupyter-widgets/controls",
      "model_module_version": "1.5.0",
      "model_name": "HTMLModel",
      "state": {
       "_dom_classes": [],
       "_model_module": "@jupyter-widgets/controls",
       "_model_module_version": "1.5.0",
       "_model_name": "HTMLModel",
       "_view_count": null,
       "_view_module": "@jupyter-widgets/controls",
       "_view_module_version": "1.5.0",
       "_view_name": "HTMLView",
       "description": "",
       "description_tooltip": null,
       "layout": "IPY_MODEL_06487274b5994032b90518dfb1e8e898",
       "placeholder": "​",
       "style": "IPY_MODEL_c870878abd2c4e27a6d4d019dcaf4bcb",
       "value": " 5/5 [01:35&lt;00:00, 18.97s/it]"
      }
     },
     "900bc7e906fc4c3a8121c233aee6741f": {
      "model_module": "@jupyter-widgets/controls",
      "model_module_version": "1.5.0",
      "model_name": "ProgressStyleModel",
      "state": {
       "_model_module": "@jupyter-widgets/controls",
       "_model_module_version": "1.5.0",
       "_model_name": "ProgressStyleModel",
       "_view_count": null,
       "_view_module": "@jupyter-widgets/base",
       "_view_module_version": "1.2.0",
       "_view_name": "StyleView",
       "bar_color": null,
       "description_width": ""
      }
     },
     "b71d34b7ed314543ae38dc9d35d95a79": {
      "model_module": "@jupyter-widgets/controls",
      "model_module_version": "1.5.0",
      "model_name": "FloatProgressModel",
      "state": {
       "_dom_classes": [],
       "_model_module": "@jupyter-widgets/controls",
       "_model_module_version": "1.5.0",
       "_model_name": "FloatProgressModel",
       "_view_count": null,
       "_view_module": "@jupyter-widgets/controls",
       "_view_module_version": "1.5.0",
       "_view_name": "ProgressView",
       "bar_style": "success",
       "description": "",
       "description_tooltip": null,
       "layout": "IPY_MODEL_b8456ac71e634f40b00b85af746df43c",
       "max": 5.0,
       "min": 0.0,
       "orientation": "horizontal",
       "style": "IPY_MODEL_900bc7e906fc4c3a8121c233aee6741f",
       "value": 5.0
      }
     },
     "b8456ac71e634f40b00b85af746df43c": {
      "model_module": "@jupyter-widgets/base",
      "model_module_version": "1.2.0",
      "model_name": "LayoutModel",
      "state": {
       "_model_module": "@jupyter-widgets/base",
       "_model_module_version": "1.2.0",
       "_model_name": "LayoutModel",
       "_view_count": null,
       "_view_module": "@jupyter-widgets/base",
       "_view_module_version": "1.2.0",
       "_view_name": "LayoutView",
       "align_content": null,
       "align_items": null,
       "align_self": null,
       "border": null,
       "bottom": null,
       "display": null,
       "flex": null,
       "flex_flow": null,
       "grid_area": null,
       "grid_auto_columns": null,
       "grid_auto_flow": null,
       "grid_auto_rows": null,
       "grid_column": null,
       "grid_gap": null,
       "grid_row": null,
       "grid_template_areas": null,
       "grid_template_columns": null,
       "grid_template_rows": null,
       "height": null,
       "justify_content": null,
       "justify_items": null,
       "left": null,
       "margin": null,
       "max_height": null,
       "max_width": null,
       "min_height": null,
       "min_width": null,
       "object_fit": null,
       "object_position": null,
       "order": null,
       "overflow": null,
       "overflow_x": null,
       "overflow_y": null,
       "padding": null,
       "right": null,
       "top": null,
       "visibility": null,
       "width": null
      }
     },
     "c6ea41970dd4448f92f9180a4e2799c8": {
      "model_module": "@jupyter-widgets/controls",
      "model_module_version": "1.5.0",
      "model_name": "DescriptionStyleModel",
      "state": {
       "_model_module": "@jupyter-widgets/controls",
       "_model_module_version": "1.5.0",
       "_model_name": "DescriptionStyleModel",
       "_view_count": null,
       "_view_module": "@jupyter-widgets/base",
       "_view_module_version": "1.2.0",
       "_view_name": "StyleView",
       "description_width": ""
      }
     },
     "c870878abd2c4e27a6d4d019dcaf4bcb": {
      "model_module": "@jupyter-widgets/controls",
      "model_module_version": "1.5.0",
      "model_name": "DescriptionStyleModel",
      "state": {
       "_model_module": "@jupyter-widgets/controls",
       "_model_module_version": "1.5.0",
       "_model_name": "DescriptionStyleModel",
       "_view_count": null,
       "_view_module": "@jupyter-widgets/base",
       "_view_module_version": "1.2.0",
       "_view_name": "StyleView",
       "description_width": ""
      }
     },
     "c88fd31e580c458a80cf3c9ac0d97daa": {
      "model_module": "@jupyter-widgets/base",
      "model_module_version": "1.2.0",
      "model_name": "LayoutModel",
      "state": {
       "_model_module": "@jupyter-widgets/base",
       "_model_module_version": "1.2.0",
       "_model_name": "LayoutModel",
       "_view_count": null,
       "_view_module": "@jupyter-widgets/base",
       "_view_module_version": "1.2.0",
       "_view_name": "LayoutView",
       "align_content": null,
       "align_items": null,
       "align_self": null,
       "border": null,
       "bottom": null,
       "display": null,
       "flex": null,
       "flex_flow": null,
       "grid_area": null,
       "grid_auto_columns": null,
       "grid_auto_flow": null,
       "grid_auto_rows": null,
       "grid_column": null,
       "grid_gap": null,
       "grid_row": null,
       "grid_template_areas": null,
       "grid_template_columns": null,
       "grid_template_rows": null,
       "height": null,
       "justify_content": null,
       "justify_items": null,
       "left": null,
       "margin": null,
       "max_height": null,
       "max_width": null,
       "min_height": null,
       "min_width": null,
       "object_fit": null,
       "object_position": null,
       "order": null,
       "overflow": null,
       "overflow_x": null,
       "overflow_y": null,
       "padding": null,
       "right": null,
       "top": null,
       "visibility": null,
       "width": null
      }
     },
     "e5df6cdc605b40d8bb836199aefc6a13": {
      "model_module": "@jupyter-widgets/controls",
      "model_module_version": "1.5.0",
      "model_name": "HBoxModel",
      "state": {
       "_dom_classes": [],
       "_model_module": "@jupyter-widgets/controls",
       "_model_module_version": "1.5.0",
       "_model_name": "HBoxModel",
       "_view_count": null,
       "_view_module": "@jupyter-widgets/controls",
       "_view_module_version": "1.5.0",
       "_view_name": "HBoxView",
       "box_style": "",
       "children": [
        "IPY_MODEL_43298b9e042e44d08a8470ec6e7c3d8e",
        "IPY_MODEL_b71d34b7ed314543ae38dc9d35d95a79",
        "IPY_MODEL_73eb8ff9f1e8481fb1e9bd1226b7039d"
       ],
       "layout": "IPY_MODEL_c88fd31e580c458a80cf3c9ac0d97daa"
      }
     }
    },
    "version_major": 2,
    "version_minor": 0
   }
  }
 },
 "nbformat": 4,
 "nbformat_minor": 5
}
